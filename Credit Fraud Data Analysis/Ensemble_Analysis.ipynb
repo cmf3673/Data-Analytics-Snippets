{
 "cells": [
  {
   "cell_type": "markdown",
   "metadata": {},
   "source": [
    "Data is the result of a [PCA transformation](https://en.wikipedia.org/wiki/Principal_component_analysis). "
   ]
  },
  {
   "cell_type": "markdown",
   "metadata": {},
   "source": [
    "## Load libraries and data"
   ]
  },
  {
   "cell_type": "code",
   "execution_count": 1,
   "metadata": {},
   "outputs": [],
   "source": [
    "import pandas as pd\n",
    "import numpy as np\n",
    "import matplotlib.pyplot as plt\n",
    "%matplotlib inline\n",
    "from sklearn.ensemble import AdaBoostClassifier\n",
    "from sklearn.ensemble import RandomForestClassifier\n",
    "from sklearn.model_selection import StratifiedKFold\n",
    "from sklearn.metrics import plot_roc_curve\n",
    "\n",
    "df_cc = pd.read_csv('cc.csv')"
   ]
  },
  {
   "cell_type": "markdown",
   "metadata": {},
   "source": [
    "## Parition data for cross validation\n",
    "\n",
    "[stratifed k-fold](https://scikit-learn.org/stable/modules/generated/sklearn.model_selection.StratifiedKFold.html) to avoid skew."
   ]
  },
  {
   "cell_type": "code",
   "execution_count": 2,
   "metadata": {},
   "outputs": [],
   "source": [
    "df_X = df_cc.drop(columns=['Class'])\n",
    "s_y = df_cc['Class']"
   ]
  },
  {
   "cell_type": "code",
   "execution_count": 3,
   "metadata": {},
   "outputs": [],
   "source": [
    "k = 3\n",
    "skf = StratifiedKFold(n_splits=k,shuffle=True,random_state=23)"
   ]
  },
  {
   "cell_type": "code",
   "execution_count": 4,
   "metadata": {},
   "outputs": [],
   "source": [
    "d_train_df_X = dict()\n",
    "d_test_df_X = dict()\n",
    "d_train_s_y = dict()\n",
    "d_test_s_y = dict()\n",
    "\n",
    "i = 0\n",
    "for train_idx, test_idx in skf.split(df_X, s_y):\n",
    "    d_train_df_X[i] = df_X.iloc[train_idx]\n",
    "    d_train_s_y[i] = s_y.iloc[train_idx]\n",
    "    \n",
    "    d_test_df_X[i] = df_X.iloc[test_idx]\n",
    "    d_test_s_y[i] = s_y.iloc[test_idx]\n",
    "    i += 1"
   ]
  },
  {
   "cell_type": "code",
   "execution_count": 5,
   "metadata": {
    "scrolled": true
   },
   "outputs": [
    {
     "name": "stdout",
     "output_type": "stream",
     "text": [
      "0    47389\n",
      "1       79\n",
      "Name: Class, dtype: int64\n",
      "0    47389\n",
      "1       79\n",
      "Name: Class, dtype: int64\n",
      "0    47389\n",
      "1       79\n",
      "Name: Class, dtype: int64\n"
     ]
    }
   ],
   "source": [
    "# Check data distributions\n",
    "for key in d_test_s_y.keys():\n",
    "    print(d_test_s_y[key].value_counts())"
   ]
  },
  {
   "cell_type": "markdown",
   "metadata": {},
   "source": [
    "# AdaBoost"
   ]
  },
  {
   "cell_type": "markdown",
   "metadata": {},
   "source": [
    "## AdaBoost Performance Test\n",
    "\n",
    "Using:\\\n",
    "[AdaBoost](https://scikit-learn.org/stable/modules/generated/sklearn.ensemble.AdaBoostClassifier.html) \\\n",
    "[ROC curve plot](https://scikit-learn.org/stable/modules/generated/sklearn.metrics.plot_roc_curve.html)"
   ]
  },
  {
   "cell_type": "code",
   "execution_count": 6,
   "metadata": {},
   "outputs": [],
   "source": [
    "acc_ab = np.zeros(k)\n",
    "tpr_ab = np.zeros(k)\n",
    "ppv_ab = np.zeros(k)\n",
    "fpr_ab = np.zeros(k)"
   ]
  },
  {
   "cell_type": "code",
   "execution_count": 7,
   "metadata": {},
   "outputs": [
    {
     "data": {
      "text/plain": [
       "Text(0.5, 1.0, 'AdaBoost ROC Curve')"
      ]
     },
     "execution_count": 7,
     "metadata": {},
     "output_type": "execute_result"
    },
    {
     "data": {
      "image/png": "[encoded data removed]",
      "text/plain": [
       "<Figure size 432x288 with 1 Axes>"
      ]
     },
     "metadata": {
      "needs_background": "light"
     },
     "output_type": "display_data"
    }
   ],
   "source": [
    "ax = plt.axes()\n",
    "\n",
    "for i in range(k):\n",
    "    # Create classifier \n",
    "    clf = AdaBoostClassifier(n_estimators=25, random_state=23)\n",
    "    # Fit classifier \n",
    "    clf.fit(d_train_df_X[i], d_train_s_y[i])\n",
    "    # Predict\n",
    "    s_y_predicted = clf.predict(d_test_df_X[i])\n",
    "    # get Acc\n",
    "    acc_ab[i] = (s_y_predicted == d_test_s_y[i]).sum() / len(s_y_predicted)\n",
    "    # get TPR\n",
    "    TP = sum([1 for j in range(len(s_y_predicted)) if s_y_predicted[j] == 1 and np.array(d_test_s_y[i])[j] == 1])\n",
    "    FN = sum([1 for j in range(len(s_y_predicted)) if s_y_predicted[j] == 0 and np.array(d_test_s_y[i])[j] == 1])\n",
    "    tpr_ab[i] = TP / (TP + FN)\n",
    "    # get PPV\n",
    "    FP = sum([1 for j in range(len(s_y_predicted)) if s_y_predicted[j] == 1 and np.array(d_test_s_y[i])[j] == 0])\n",
    "    ppv_ab[i] = TP / (TP + FP)\n",
    "    # get FPR\n",
    "    TN = sum([1 for j in range(len(s_y_predicted)) if s_y_predicted[j] == 0 and np.array(d_test_s_y[i])[j] == 0])\n",
    "    fpr_ab[i] = FP / (FP + TN)\n",
    "    # plot ROC\n",
    "    plot_roc_curve(clf, d_test_df_X[i], d_test_s_y[i], ax = ax, name = f'ROC Fold {i + 1}')\n",
    "    y_hat_ab = s_y_predicted\n",
    "    \n",
    "ax.plot([0, 1], [0, 1], linestyle='--', lw=2, color='r', label='Chance', alpha=.8)\n",
    "plt.title('AdaBoost ROC Curve')"
   ]
  },
  {
   "cell_type": "code",
   "execution_count": 8,
   "metadata": {},
   "outputs": [
    {
     "name": "stdout",
     "output_type": "stream",
     "text": [
      "The min, mean, and max TPR are: 0.62, 0.65, and 0.71\n",
      "The min, mean, and max PPV are: 0.75, 0.79, and 0.82\n",
      "The min, mean, and max ACC are: 1.00, 1.00, and 1.00\n"
     ]
    }
   ],
   "source": [
    "print('The min, mean, and max TPR are: {:.2f}, {:.2f}, and {:.2f}'.format(tpr_ab.min(), tpr_ab.mean(), tpr_ab.max()))\n",
    "print('The min, mean, and max PPV are: {:.2f}, {:.2f}, and {:.2f}'.format(ppv_ab.min(), ppv_ab.mean(), ppv_ab.max()))\n",
    "print('The min, mean, and max ACC are: {:.2f}, {:.2f}, and {:.2f}'.format(acc_ab.min(), acc_ab.mean(), acc_ab.max()))"
   ]
  },
  {
   "cell_type": "markdown",
   "metadata": {},
   "source": [
    "# Random Forests"
   ]
  },
  {
   "cell_type": "markdown",
   "metadata": {},
   "source": [
    "## Random Forests Performance Test \n",
    "\n",
    "Using: \\\n",
    "[Random Forests](https://scikit-learn.org/stable/modules/generated/sklearn.ensemble.RandomForestClassifier.html) \\\n",
    "[ROC curve](https://scikit-learn.org/stable/modules/generated/sklearn.metrics.plot_roc_curve.html) "
   ]
  },
  {
   "cell_type": "code",
   "execution_count": 9,
   "metadata": {},
   "outputs": [],
   "source": [
    "acc_rf = np.zeros(k)\n",
    "tpr_rf = np.zeros(k)\n",
    "ppv_rf = np.zeros(k)\n",
    "fpr_rf = np.zeros(k)"
   ]
  },
  {
   "cell_type": "code",
   "execution_count": 10,
   "metadata": {},
   "outputs": [
    {
     "data": {
      "image/png": "[encoded data removed]",
      "text/plain": [
       "<Figure size 432x288 with 1 Axes>"
      ]
     },
     "metadata": {
      "needs_background": "light"
     },
     "output_type": "display_data"
    }
   ],
   "source": [
    "ax = plt.axes()\n",
    "\n",
    "for i in range(k):\n",
    "    # Create\n",
    "    clf = RandomForestClassifier(criterion=\"entropy\", max_features=\"sqrt\", random_state=23)\n",
    "    # Fit\n",
    "    clf.fit(d_train_df_X[i], d_train_s_y[i])\n",
    "    # Predict\n",
    "    s_y_predicted = clf.predict(d_test_df_X[i])\n",
    "    # get Acc\n",
    "    acc_rf[i] = (s_y_predicted == d_test_s_y[i]).sum() / len(s_y_predicted)\n",
    "    # get TPR\n",
    "    TP = sum([1 for j in range(len(s_y_predicted)) if s_y_predicted[j] == 1 and np.array(d_test_s_y[i])[j] == 1])\n",
    "    FN = sum([1 for j in range(len(s_y_predicted)) if s_y_predicted[j] == 0 and np.array(d_test_s_y[i])[j] == 1])\n",
    "    tpr_rf[i] = TP / (TP + FN)\n",
    "    # get PPV\n",
    "    FP = sum([1 for j in range(len(s_y_predicted)) if s_y_predicted[j] == 1 and np.array(d_test_s_y[i])[j] == 0])\n",
    "    ppv_rf[i] = TP / (TP + FP)\n",
    "    # get FPR\n",
    "    TN = sum([1 for j in range(len(s_y_predicted)) if s_y_predicted[j] == 0 and np.array(d_test_s_y[i])[j] == 0])\n",
    "    fpr_rf[i] = FP / (FP + TN)\n",
    "    # plot ROC\n",
    "    plot_roc_curve(clf, d_test_df_X[i], d_test_s_y[i], ax = ax, name = f'ROC Fold {i + 1}')\n",
    "    y_hat_rf = s_y_predicted\n",
    "    \n",
    "ax.plot([0, 1], [0, 1], linestyle='--', lw=2, color='r', label='Chance', alpha=.8)\n",
    "plt.show()"
   ]
  },
  {
   "cell_type": "code",
   "execution_count": 11,
   "metadata": {},
   "outputs": [
    {
     "name": "stdout",
     "output_type": "stream",
     "text": [
      "The min, mean, and max TPR are: 0.75 , 0.78, and 0.80\n",
      "The min, mean, and max PPV are: 0.92, 0.93, and 0.95\n",
      "The min, mean, and max ACC are: 1.00, 1.00, and 1.00\n"
     ]
    }
   ],
   "source": [
    "print('The min, mean, and max TPR are: {:.2f} , {:.2f}, and {:.2f}'.format(tpr_rf.min(), tpr_rf.mean(), tpr_rf.max()))\n",
    "print('The min, mean, and max PPV are: {:.2f}, {:.2f}, and {:.2f}'.format(ppv_rf.min(), ppv_rf.mean(), ppv_rf.max()))\n",
    "print('The min, mean, and max ACC are: {:.2f}, {:.2f}, and {:.2f}'.format(acc_rf.min(), acc_rf.mean(), acc_rf.max()))"
   ]
  },
  {
   "cell_type": "markdown",
   "metadata": {},
   "source": [
    "# Compare Ensemble Methods\n",
    "\n",
    "A fradulent charge for €10 is undectected, it costs the bank €20.  Also, if a charge is predicted as fradulent, but wasn't, it costs the bank a flat fee of €3 in customer service support to communicate with the customer, and mark the possible fraud as a normal transaction. \n",
    "\n",
    "Calculating how much money Mr Bank Man will save by deploying each algorithm:"
   ]
  },
  {
   "cell_type": "code",
   "execution_count": 13,
   "metadata": {},
   "outputs": [
    {
     "name": "stdout",
     "output_type": "stream",
     "text": [
      "He will save €18121.36 by deploying the random forests algorithm.\n",
      "He will save €13946.42 by deploying the AdaBoost algorithm.\n"
     ]
    }
   ],
   "source": [
    "third_y = np.array(d_test_s_y[2])\n",
    "amounts = np.array(d_test_df_X[2]['Amount'])\n",
    "# Get missed frauds (false negatives)\n",
    "FN_rf = 2 * sum([amounts[j] for j in range(len(y_hat_rf)) if y_hat_rf[j] == 0 and third_y[j] == 1])\n",
    "FN_ab = 2 * sum([amounts[j] for j in range(len(y_hat_ab)) if y_hat_ab[j] == 0 and third_y[j] == 1])\n",
    "all_frauds_cost = 2 * sum([amounts[j] for j in range(len(amounts)) if third_y[j] == 1])\n",
    "# Get incorrect frauds (false positives)\n",
    "FP_rf = sum([1 for j in range(len(y_hat_rf)) if y_hat_rf[j] == 1 and third_y[j] == 0])\n",
    "FP_ab = sum([1 for j in range(len(y_hat_ab)) if y_hat_ab[j] == 1 and third_y[j] == 0])\n",
    "# Calculate costs\n",
    "rf_cost = FN_rf + 3 * FP_rf\n",
    "ab_cost = FN_ab + 3 * FP_ab\n",
    "\n",
    "print(f'He will save €{round(all_frauds_cost - rf_cost, 2)} by deploying the random forests algorithm.')\n",
    "print(f'He will save €{round(all_frauds_cost - ab_cost, 2)} by deploying the AdaBoost algorithm.')"
   ]
  }
 ],
 "metadata": {
  "kernelspec": {
   "display_name": "Python 3",
   "language": "python",
   "name": "python3"
  },
  "language_info": {
   "codemirror_mode": {
    "name": "ipython",
    "version": 3
   },
   "file_extension": ".py",
   "mimetype": "text/x-python",
   "name": "python",
   "nbconvert_exporter": "python",
   "pygments_lexer": "ipython3",
   "version": "3.8.5"
  }
 },
 "nbformat": 4,
 "nbformat_minor": 4
}
