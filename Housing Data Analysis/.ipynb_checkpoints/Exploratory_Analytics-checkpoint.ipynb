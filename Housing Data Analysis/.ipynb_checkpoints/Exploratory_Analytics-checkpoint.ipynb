{
 "cells": [
  {
   "cell_type": "markdown",
   "metadata": {},
   "source": [
    "\n",
    "### Data Information:\n",
    "\n",
    "\n",
    "```\n",
    "Scraped from publicly available results posted every week from Domain.com.au.\n",
    "\n",
    "Some Key Details\n",
    "Suburb: Suburb\n",
    "\n",
    "Address: Address\n",
    "\n",
    "Rooms: Number of rooms\n",
    "\n",
    "Price: Price in Australian dollars\n",
    "\n",
    "Method:\n",
    "S - property sold;\n",
    "SP - property sold prior;\n",
    "PI - property passed in;\n",
    "PN - sold prior not disclosed;\n",
    "SN - sold not disclosed;\n",
    "NB - no bid;\n",
    "VB - vendor bid;\n",
    "W - withdrawn prior to auction;\n",
    "SA - sold after auction;\n",
    "SS - sold after auction price not disclosed.\n",
    "N/A - price or highest bid not available.\n",
    "\n",
    "Type:\n",
    "br - bedroom(s);\n",
    "h - house,cottage,villa, semi,terrace;\n",
    "u - unit, duplex;\n",
    "t - townhouse;\n",
    "dev site - development site;\n",
    "o res - other residential.\n",
    "\n",
    "SellerG: Real Estate Agent\n",
    "\n",
    "Date: Date sold\n",
    "\n",
    "Distance: Distance from CBD in Kilometres\n",
    "\n",
    "Regionname: General Region (West, North West, North, North east …etc)\n",
    "\n",
    "Propertycount: Number of properties that exist in the suburb.\n",
    "\n",
    "Bedroom2 : Scraped # of Bedrooms (from different source)\n",
    "\n",
    "Bathroom: Number of Bathrooms\n",
    "\n",
    "Car: Number of carspots\n",
    "\n",
    "Landsize: Land Size in Metres\n",
    "\n",
    "BuildingArea: Building Size in Metres\n",
    "\n",
    "YearBuilt: Year the house was built\n",
    "\n",
    "CouncilArea: Governing council for the area\n",
    "\n",
    "Lattitude: Self explanitory\n",
    "\n",
    "Longtitude: Self explanitory\n",
    "```\n"
   ]
  },
  {
   "cell_type": "markdown",
   "metadata": {},
   "source": [
    "## Loading Data\n"
   ]
  },
  {
   "cell_type": "code",
   "execution_count": 1,
   "metadata": {},
   "outputs": [
    {
     "data": {
      "text/html": [
       "<div>\n",
       "<style scoped>\n",
       "    .dataframe tbody tr th:only-of-type {\n",
       "        vertical-align: middle;\n",
       "    }\n",
       "\n",
       "    .dataframe tbody tr th {\n",
       "        vertical-align: top;\n",
       "    }\n",
       "\n",
       "    .dataframe thead th {\n",
       "        text-align: right;\n",
       "    }\n",
       "</style>\n",
       "<table border=\"1\" class=\"dataframe\">\n",
       "  <thead>\n",
       "    <tr style=\"text-align: right;\">\n",
       "      <th></th>\n",
       "      <th>Suburb</th>\n",
       "      <th>Address</th>\n",
       "      <th>Rooms</th>\n",
       "      <th>Type</th>\n",
       "      <th>Price</th>\n",
       "      <th>Method</th>\n",
       "      <th>SellerG</th>\n",
       "      <th>Date</th>\n",
       "      <th>Distance</th>\n",
       "      <th>Postcode</th>\n",
       "      <th>...</th>\n",
       "      <th>Bathroom</th>\n",
       "      <th>Car</th>\n",
       "      <th>Landsize</th>\n",
       "      <th>BuildingArea</th>\n",
       "      <th>YearBuilt</th>\n",
       "      <th>CouncilArea</th>\n",
       "      <th>Lattitude</th>\n",
       "      <th>Longtitude</th>\n",
       "      <th>Regionname</th>\n",
       "      <th>Propertycount</th>\n",
       "    </tr>\n",
       "  </thead>\n",
       "  <tbody>\n",
       "    <tr>\n",
       "      <th>0</th>\n",
       "      <td>Abbotsford</td>\n",
       "      <td>85 Turner St</td>\n",
       "      <td>2</td>\n",
       "      <td>h</td>\n",
       "      <td>1480000.0</td>\n",
       "      <td>S</td>\n",
       "      <td>Biggin</td>\n",
       "      <td>3/12/2016</td>\n",
       "      <td>2.5</td>\n",
       "      <td>3067.0</td>\n",
       "      <td>...</td>\n",
       "      <td>1.0</td>\n",
       "      <td>1.0</td>\n",
       "      <td>202.0</td>\n",
       "      <td>NaN</td>\n",
       "      <td>NaN</td>\n",
       "      <td>Yarra</td>\n",
       "      <td>-37.79960</td>\n",
       "      <td>144.99840</td>\n",
       "      <td>Northern Metropolitan</td>\n",
       "      <td>4019.0</td>\n",
       "    </tr>\n",
       "    <tr>\n",
       "      <th>1</th>\n",
       "      <td>Abbotsford</td>\n",
       "      <td>25 Bloomburg St</td>\n",
       "      <td>2</td>\n",
       "      <td>h</td>\n",
       "      <td>1035000.0</td>\n",
       "      <td>S</td>\n",
       "      <td>Biggin</td>\n",
       "      <td>4/02/2016</td>\n",
       "      <td>2.5</td>\n",
       "      <td>3067.0</td>\n",
       "      <td>...</td>\n",
       "      <td>1.0</td>\n",
       "      <td>0.0</td>\n",
       "      <td>156.0</td>\n",
       "      <td>79.0</td>\n",
       "      <td>1900.0</td>\n",
       "      <td>Yarra</td>\n",
       "      <td>-37.80790</td>\n",
       "      <td>144.99340</td>\n",
       "      <td>Northern Metropolitan</td>\n",
       "      <td>4019.0</td>\n",
       "    </tr>\n",
       "    <tr>\n",
       "      <th>2</th>\n",
       "      <td>Abbotsford</td>\n",
       "      <td>5 Charles St</td>\n",
       "      <td>3</td>\n",
       "      <td>h</td>\n",
       "      <td>1465000.0</td>\n",
       "      <td>SP</td>\n",
       "      <td>Biggin</td>\n",
       "      <td>4/03/2017</td>\n",
       "      <td>2.5</td>\n",
       "      <td>3067.0</td>\n",
       "      <td>...</td>\n",
       "      <td>2.0</td>\n",
       "      <td>0.0</td>\n",
       "      <td>134.0</td>\n",
       "      <td>150.0</td>\n",
       "      <td>1900.0</td>\n",
       "      <td>Yarra</td>\n",
       "      <td>-37.80930</td>\n",
       "      <td>144.99440</td>\n",
       "      <td>Northern Metropolitan</td>\n",
       "      <td>4019.0</td>\n",
       "    </tr>\n",
       "    <tr>\n",
       "      <th>3</th>\n",
       "      <td>Abbotsford</td>\n",
       "      <td>40 Federation La</td>\n",
       "      <td>3</td>\n",
       "      <td>h</td>\n",
       "      <td>850000.0</td>\n",
       "      <td>PI</td>\n",
       "      <td>Biggin</td>\n",
       "      <td>4/03/2017</td>\n",
       "      <td>2.5</td>\n",
       "      <td>3067.0</td>\n",
       "      <td>...</td>\n",
       "      <td>2.0</td>\n",
       "      <td>1.0</td>\n",
       "      <td>94.0</td>\n",
       "      <td>NaN</td>\n",
       "      <td>NaN</td>\n",
       "      <td>Yarra</td>\n",
       "      <td>-37.79690</td>\n",
       "      <td>144.99690</td>\n",
       "      <td>Northern Metropolitan</td>\n",
       "      <td>4019.0</td>\n",
       "    </tr>\n",
       "    <tr>\n",
       "      <th>4</th>\n",
       "      <td>Abbotsford</td>\n",
       "      <td>55a Park St</td>\n",
       "      <td>4</td>\n",
       "      <td>h</td>\n",
       "      <td>1600000.0</td>\n",
       "      <td>VB</td>\n",
       "      <td>Nelson</td>\n",
       "      <td>4/06/2016</td>\n",
       "      <td>2.5</td>\n",
       "      <td>3067.0</td>\n",
       "      <td>...</td>\n",
       "      <td>1.0</td>\n",
       "      <td>2.0</td>\n",
       "      <td>120.0</td>\n",
       "      <td>142.0</td>\n",
       "      <td>2014.0</td>\n",
       "      <td>Yarra</td>\n",
       "      <td>-37.80720</td>\n",
       "      <td>144.99410</td>\n",
       "      <td>Northern Metropolitan</td>\n",
       "      <td>4019.0</td>\n",
       "    </tr>\n",
       "    <tr>\n",
       "      <th>...</th>\n",
       "      <td>...</td>\n",
       "      <td>...</td>\n",
       "      <td>...</td>\n",
       "      <td>...</td>\n",
       "      <td>...</td>\n",
       "      <td>...</td>\n",
       "      <td>...</td>\n",
       "      <td>...</td>\n",
       "      <td>...</td>\n",
       "      <td>...</td>\n",
       "      <td>...</td>\n",
       "      <td>...</td>\n",
       "      <td>...</td>\n",
       "      <td>...</td>\n",
       "      <td>...</td>\n",
       "      <td>...</td>\n",
       "      <td>...</td>\n",
       "      <td>...</td>\n",
       "      <td>...</td>\n",
       "      <td>...</td>\n",
       "      <td>...</td>\n",
       "    </tr>\n",
       "    <tr>\n",
       "      <th>13575</th>\n",
       "      <td>Wheelers Hill</td>\n",
       "      <td>12 Strada Cr</td>\n",
       "      <td>4</td>\n",
       "      <td>h</td>\n",
       "      <td>1245000.0</td>\n",
       "      <td>S</td>\n",
       "      <td>Barry</td>\n",
       "      <td>26/08/2017</td>\n",
       "      <td>16.7</td>\n",
       "      <td>3150.0</td>\n",
       "      <td>...</td>\n",
       "      <td>2.0</td>\n",
       "      <td>2.0</td>\n",
       "      <td>652.0</td>\n",
       "      <td>NaN</td>\n",
       "      <td>1981.0</td>\n",
       "      <td>NaN</td>\n",
       "      <td>-37.90562</td>\n",
       "      <td>145.16761</td>\n",
       "      <td>South-Eastern Metropolitan</td>\n",
       "      <td>7392.0</td>\n",
       "    </tr>\n",
       "    <tr>\n",
       "      <th>13576</th>\n",
       "      <td>Williamstown</td>\n",
       "      <td>77 Merrett Dr</td>\n",
       "      <td>3</td>\n",
       "      <td>h</td>\n",
       "      <td>1031000.0</td>\n",
       "      <td>SP</td>\n",
       "      <td>Williams</td>\n",
       "      <td>26/08/2017</td>\n",
       "      <td>6.8</td>\n",
       "      <td>3016.0</td>\n",
       "      <td>...</td>\n",
       "      <td>2.0</td>\n",
       "      <td>2.0</td>\n",
       "      <td>333.0</td>\n",
       "      <td>133.0</td>\n",
       "      <td>1995.0</td>\n",
       "      <td>NaN</td>\n",
       "      <td>-37.85927</td>\n",
       "      <td>144.87904</td>\n",
       "      <td>Western Metropolitan</td>\n",
       "      <td>6380.0</td>\n",
       "    </tr>\n",
       "    <tr>\n",
       "      <th>13577</th>\n",
       "      <td>Williamstown</td>\n",
       "      <td>83 Power St</td>\n",
       "      <td>3</td>\n",
       "      <td>h</td>\n",
       "      <td>1170000.0</td>\n",
       "      <td>S</td>\n",
       "      <td>Raine</td>\n",
       "      <td>26/08/2017</td>\n",
       "      <td>6.8</td>\n",
       "      <td>3016.0</td>\n",
       "      <td>...</td>\n",
       "      <td>2.0</td>\n",
       "      <td>4.0</td>\n",
       "      <td>436.0</td>\n",
       "      <td>NaN</td>\n",
       "      <td>1997.0</td>\n",
       "      <td>NaN</td>\n",
       "      <td>-37.85274</td>\n",
       "      <td>144.88738</td>\n",
       "      <td>Western Metropolitan</td>\n",
       "      <td>6380.0</td>\n",
       "    </tr>\n",
       "    <tr>\n",
       "      <th>13578</th>\n",
       "      <td>Williamstown</td>\n",
       "      <td>96 Verdon St</td>\n",
       "      <td>4</td>\n",
       "      <td>h</td>\n",
       "      <td>2500000.0</td>\n",
       "      <td>PI</td>\n",
       "      <td>Sweeney</td>\n",
       "      <td>26/08/2017</td>\n",
       "      <td>6.8</td>\n",
       "      <td>3016.0</td>\n",
       "      <td>...</td>\n",
       "      <td>1.0</td>\n",
       "      <td>5.0</td>\n",
       "      <td>866.0</td>\n",
       "      <td>157.0</td>\n",
       "      <td>1920.0</td>\n",
       "      <td>NaN</td>\n",
       "      <td>-37.85908</td>\n",
       "      <td>144.89299</td>\n",
       "      <td>Western Metropolitan</td>\n",
       "      <td>6380.0</td>\n",
       "    </tr>\n",
       "    <tr>\n",
       "      <th>13579</th>\n",
       "      <td>Yarraville</td>\n",
       "      <td>6 Agnes St</td>\n",
       "      <td>4</td>\n",
       "      <td>h</td>\n",
       "      <td>1285000.0</td>\n",
       "      <td>SP</td>\n",
       "      <td>Village</td>\n",
       "      <td>26/08/2017</td>\n",
       "      <td>6.3</td>\n",
       "      <td>3013.0</td>\n",
       "      <td>...</td>\n",
       "      <td>1.0</td>\n",
       "      <td>1.0</td>\n",
       "      <td>362.0</td>\n",
       "      <td>112.0</td>\n",
       "      <td>1920.0</td>\n",
       "      <td>NaN</td>\n",
       "      <td>-37.81188</td>\n",
       "      <td>144.88449</td>\n",
       "      <td>Western Metropolitan</td>\n",
       "      <td>6543.0</td>\n",
       "    </tr>\n",
       "  </tbody>\n",
       "</table>\n",
       "<p>13580 rows × 21 columns</p>\n",
       "</div>"
      ],
      "text/plain": [
       "              Suburb           Address  Rooms Type      Price Method  \\\n",
       "0         Abbotsford      85 Turner St      2    h  1480000.0      S   \n",
       "1         Abbotsford   25 Bloomburg St      2    h  1035000.0      S   \n",
       "2         Abbotsford      5 Charles St      3    h  1465000.0     SP   \n",
       "3         Abbotsford  40 Federation La      3    h   850000.0     PI   \n",
       "4         Abbotsford       55a Park St      4    h  1600000.0     VB   \n",
       "...              ...               ...    ...  ...        ...    ...   \n",
       "13575  Wheelers Hill      12 Strada Cr      4    h  1245000.0      S   \n",
       "13576   Williamstown     77 Merrett Dr      3    h  1031000.0     SP   \n",
       "13577   Williamstown       83 Power St      3    h  1170000.0      S   \n",
       "13578   Williamstown      96 Verdon St      4    h  2500000.0     PI   \n",
       "13579     Yarraville        6 Agnes St      4    h  1285000.0     SP   \n",
       "\n",
       "        SellerG        Date  Distance  Postcode  ...  Bathroom  Car  Landsize  \\\n",
       "0        Biggin   3/12/2016       2.5    3067.0  ...       1.0  1.0     202.0   \n",
       "1        Biggin   4/02/2016       2.5    3067.0  ...       1.0  0.0     156.0   \n",
       "2        Biggin   4/03/2017       2.5    3067.0  ...       2.0  0.0     134.0   \n",
       "3        Biggin   4/03/2017       2.5    3067.0  ...       2.0  1.0      94.0   \n",
       "4        Nelson   4/06/2016       2.5    3067.0  ...       1.0  2.0     120.0   \n",
       "...         ...         ...       ...       ...  ...       ...  ...       ...   \n",
       "13575     Barry  26/08/2017      16.7    3150.0  ...       2.0  2.0     652.0   \n",
       "13576  Williams  26/08/2017       6.8    3016.0  ...       2.0  2.0     333.0   \n",
       "13577     Raine  26/08/2017       6.8    3016.0  ...       2.0  4.0     436.0   \n",
       "13578   Sweeney  26/08/2017       6.8    3016.0  ...       1.0  5.0     866.0   \n",
       "13579   Village  26/08/2017       6.3    3013.0  ...       1.0  1.0     362.0   \n",
       "\n",
       "       BuildingArea  YearBuilt  CouncilArea Lattitude  Longtitude  \\\n",
       "0               NaN        NaN        Yarra -37.79960   144.99840   \n",
       "1              79.0     1900.0        Yarra -37.80790   144.99340   \n",
       "2             150.0     1900.0        Yarra -37.80930   144.99440   \n",
       "3               NaN        NaN        Yarra -37.79690   144.99690   \n",
       "4             142.0     2014.0        Yarra -37.80720   144.99410   \n",
       "...             ...        ...          ...       ...         ...   \n",
       "13575           NaN     1981.0          NaN -37.90562   145.16761   \n",
       "13576         133.0     1995.0          NaN -37.85927   144.87904   \n",
       "13577           NaN     1997.0          NaN -37.85274   144.88738   \n",
       "13578         157.0     1920.0          NaN -37.85908   144.89299   \n",
       "13579         112.0     1920.0          NaN -37.81188   144.88449   \n",
       "\n",
       "                       Regionname Propertycount  \n",
       "0           Northern Metropolitan        4019.0  \n",
       "1           Northern Metropolitan        4019.0  \n",
       "2           Northern Metropolitan        4019.0  \n",
       "3           Northern Metropolitan        4019.0  \n",
       "4           Northern Metropolitan        4019.0  \n",
       "...                           ...           ...  \n",
       "13575  South-Eastern Metropolitan        7392.0  \n",
       "13576        Western Metropolitan        6380.0  \n",
       "13577        Western Metropolitan        6380.0  \n",
       "13578        Western Metropolitan        6380.0  \n",
       "13579        Western Metropolitan        6543.0  \n",
       "\n",
       "[13580 rows x 21 columns]"
      ]
     },
     "execution_count": 1,
     "metadata": {},
     "output_type": "execute_result"
    }
   ],
   "source": [
    "import math\n",
    "import pandas as pd\n",
    "import numpy as np \n",
    "import matplotlib.pyplot as plt\n",
    "\n",
    "df = pd.read_csv('melb_data.csv')\n",
    "df"
   ]
  },
  {
   "cell_type": "markdown",
   "metadata": {},
   "source": [
    "## Exploratory Analysis "
   ]
  },
  {
   "cell_type": "code",
   "execution_count": 2,
   "metadata": {},
   "outputs": [
    {
     "data": {
      "text/plain": [
       "314"
      ]
     },
     "execution_count": 2,
     "metadata": {},
     "output_type": "execute_result"
    }
   ],
   "source": [
    "suburbs = df['Suburb']\n",
    "suburbs.nunique()"
   ]
  },
  {
   "cell_type": "code",
   "execution_count": 3,
   "metadata": {},
   "outputs": [
    {
     "data": {
      "text/plain": [
       "13378"
      ]
     },
     "execution_count": 3,
     "metadata": {},
     "output_type": "execute_result"
    }
   ],
   "source": [
    "df['Address'].nunique()"
   ]
  },
  {
   "cell_type": "code",
   "execution_count": 4,
   "metadata": {},
   "outputs": [
    {
     "data": {
      "text/plain": [
       "831667.4358974359"
      ]
     },
     "execution_count": 4,
     "metadata": {},
     "output_type": "execute_result"
    }
   ],
   "source": [
    "df_Kensington = df[df['Suburb'] == 'Kensington']\n",
    "df_Kensington['Price'].mean()"
   ]
  },
  {
   "cell_type": "code",
   "execution_count": 5,
   "metadata": {},
   "outputs": [
    {
     "data": {
      "text/plain": [
       "'60.42% of properties contain a YearBuilt value.'"
      ]
     },
     "execution_count": 5,
     "metadata": {},
     "output_type": "execute_result"
    }
   ],
   "source": [
    "df_YearBuilt = df[df['YearBuilt'].notnull()]\n",
    "f'{round(len(df_YearBuilt) / len(df) * 100, 2)}% of properties contain a yearbuilt value'"
   ]
  },
  {
   "cell_type": "markdown",
   "metadata": {},
   "source": [
    "## Plot the Landsize"
   ]
  },
  {
   "cell_type": "code",
   "execution_count": 6,
   "metadata": {},
   "outputs": [
    {
     "data": {
      "image/png": "[encoded data removed]",
      "text/plain": [
       "<Figure size 432x288 with 1 Axes>"
      ]
     },
     "metadata": {
      "needs_background": "light"
     },
     "output_type": "display_data"
    },
    {
     "name": "stdout",
     "output_type": "stream",
     "text": [
      "A plurality of houses have a landsize from 0 to 50 meters.\n",
      "For those that don't, their land size is concentrated sround 250 and 600 meters.\n"
     ]
    }
   ],
   "source": [
    "bins = [x for x in range(0, 2_000, 50)] + [df['Landsize'].max()]\n",
    "plt.hist(df['Landsize'], bins = bins, color = 'coral') \n",
    "plt.xlim(0, 2_500)\n",
    "plt.xlabel('Landsize ($m^2$)')\n",
    "plt.ylabel('Number of Houses')\n",
    "plt.text(1_600, 650, f'Last bin extends from\\n2000 to {df[\"Landsize\"].max()}')\n",
    "plt.show()\n",
    "print('A plurality of houses have a landsize from 0 to 50 meters.\\n\\\n",
    "For those that don\\'t, their land size is concentrated sround 250 and 600 meters.')"
   ]
  },
  {
   "cell_type": "markdown",
   "metadata": {},
   "source": [
    "## Ploting scatter plot of price as a function of BuildingArea\n",
    "\n",
    "Break this down into slicing the DataFrame first, then creating the visualization.  There are both `plot` and `scatter` functions in the matplotlib library that can help here.  You'll notice there is more than one way to do a thing so much in computer science 😄\n",
    "\n",
    "If you have to change your axes and end up excluding some points to make the data more visible, then annotate the number of points excluded in the graph. "
   ]
  },
  {
   "cell_type": "code",
   "execution_count": 7,
   "metadata": {},
   "outputs": [
    {
     "data": {
      "text/plain": [
       "Text(1250, 5000000.0, 'Points not shown:\\n(6791, 1280000),\\n(3112, 2608000),\\n(3558, 930000),\\n(44515, 1355000)')"
      ]
     },
     "execution_count": 7,
     "metadata": {},
     "output_type": "execute_result"
    },
    {
     "data": {
      "image/png": "[encoded data removed]",
      "text/plain": [
       "<Figure size 432x288 with 1 Axes>"
      ]
     },
     "metadata": {
      "needs_background": "light"
     },
     "output_type": "display_data"
    }
   ],
   "source": [
    "# Building area on x axis, price on y\n",
    "df_noNull = df[df['BuildingArea'].notnull()]\n",
    "df_BuildingArea = df_noNull['BuildingArea']\n",
    "\n",
    "# getting excluded points\n",
    "# df_temp = df_noNull[['BuildingArea', 'Price']]\n",
    "# for i in range(1, len(df)): \n",
    "#     if df['BuildingArea'][i] > 2000:\n",
    "#         print(df['BuildingArea'][i], df['Price'][i])\n",
    "    print(next)\n",
    "df_Price = df_noNull['Price']\n",
    "plt.scatter(df_BuildingArea, df_Price, color = 'steelblue')\n",
    "plt.xlim(0, 2_000)\n",
    "plt.ylabel('Price (millions AUD)')\n",
    "plt.xlabel('Building Area ($m^2$)')\n",
    "plt.text(1250, 5e6, 'Points not shown:\\n(6791, 1280000),\\n(3112, 2608000),\\n(3558, 930000),\\n(44515, 1355000)')"
   ]
  },
  {
   "cell_type": "markdown",
   "metadata": {},
   "source": [
    "## Q8 - List the top 10 SellerG, and what percentage of properties they have listed \n",
    "\n",
    "I'm going to assume that the SellerG column is the name of the seller group, so \"realtor\" in US parlance.  So, that column is interpreted as the seller that listed the property.\n",
    "\n",
    "Check out the function `value_counts` in pandas documentation. "
   ]
  },
  {
   "cell_type": "code",
   "execution_count": 8,
   "metadata": {},
   "outputs": [
    {
     "data": {
      "text/plain": [
       "Nelson           11.376887\n",
       "Jellis            9.739871\n",
       "hockingstuart     8.641052\n",
       "Barry             7.504859\n",
       "Ray               5.210046\n",
       "Marshall          4.873673\n",
       "Buxton            4.679324\n",
       "Biggin            2.900284\n",
       "Brad              2.541486\n",
       "Woodards          2.227538\n",
       "Name: SellerG, dtype: float64"
      ]
     },
     "execution_count": 8,
     "metadata": {},
     "output_type": "execute_result"
    }
   ],
   "source": [
    "# Drop duplicates\n",
    "df_uniqueProps = df.drop_duplicates('Address')\n",
    "# Get top 10\n",
    "seller_series = df_uniqueProps['SellerG']\n",
    "ten_largest = seller_series.value_counts().nlargest(n=10)\n",
    "# Transform to percent\n",
    "ten_largest = (ten_largest / len(df_uniqueProps)) * 100\n",
    "ten_largest"
   ]
  },
  {
   "cell_type": "markdown",
   "metadata": {},
   "source": [
    "## Q9 - Fix a problem\n",
    "Your boss has told you that the number of rooms was calculated incorrectly systematically across the entire data set.  Add one room to the Rooms column using two methods:\n",
    "\n",
    " - a for loop, and\n",
    " - using a single statement\n",
    " \n",
    "Save those DataFrames into the variables `df1` and `df2`.  (We don't use these again, for the next questions just continue using `df`)\n",
    "\n",
    "Watch out that you don't accidentally change the original DataFrame using a shallow copy."
   ]
  },
  {
   "cell_type": "code",
   "execution_count": 9,
   "metadata": {},
   "outputs": [
    {
     "name": "stderr",
     "output_type": "stream",
     "text": [
      "<ipython-input-9-22b6d9fabf95>:5: SettingWithCopyWarning: \n",
      "A value is trying to be set on a copy of a slice from a DataFrame\n",
      "\n",
      "See the caveats in the documentation: https://pandas.pydata.org/pandas-docs/stable/user_guide/indexing.html#returning-a-view-versus-a-copy\n",
      "  df1['Rooms'][i] += 1\n"
     ]
    },
    {
     "name": "stdout",
     "output_type": "stream",
     "text": [
      "       Suburb           Address  Rooms Type      Price Method SellerG  \\\n",
      "0  Abbotsford      85 Turner St      3    h  1480000.0      S  Biggin   \n",
      "1  Abbotsford   25 Bloomburg St      3    h  1035000.0      S  Biggin   \n",
      "2  Abbotsford      5 Charles St      4    h  1465000.0     SP  Biggin   \n",
      "3  Abbotsford  40 Federation La      4    h   850000.0     PI  Biggin   \n",
      "4  Abbotsford       55a Park St      5    h  1600000.0     VB  Nelson   \n",
      "\n",
      "        Date  Distance  Postcode  ...  Bathroom  Car  Landsize  BuildingArea  \\\n",
      "0  3/12/2016       2.5    3067.0  ...       1.0  1.0     202.0           NaN   \n",
      "1  4/02/2016       2.5    3067.0  ...       1.0  0.0     156.0          79.0   \n",
      "2  4/03/2017       2.5    3067.0  ...       2.0  0.0     134.0         150.0   \n",
      "3  4/03/2017       2.5    3067.0  ...       2.0  1.0      94.0           NaN   \n",
      "4  4/06/2016       2.5    3067.0  ...       1.0  2.0     120.0         142.0   \n",
      "\n",
      "   YearBuilt  CouncilArea Lattitude  Longtitude             Regionname  \\\n",
      "0        NaN        Yarra  -37.7996    144.9984  Northern Metropolitan   \n",
      "1     1900.0        Yarra  -37.8079    144.9934  Northern Metropolitan   \n",
      "2     1900.0        Yarra  -37.8093    144.9944  Northern Metropolitan   \n",
      "3        NaN        Yarra  -37.7969    144.9969  Northern Metropolitan   \n",
      "4     2014.0        Yarra  -37.8072    144.9941  Northern Metropolitan   \n",
      "\n",
      "  Propertycount  \n",
      "0        4019.0  \n",
      "1        4019.0  \n",
      "2        4019.0  \n",
      "3        4019.0  \n",
      "4        4019.0  \n",
      "\n",
      "[5 rows x 21 columns]\n",
      "       Suburb           Address  Rooms Type      Price Method SellerG  \\\n",
      "0  Abbotsford      85 Turner St      3    h  1480000.0      S  Biggin   \n",
      "1  Abbotsford   25 Bloomburg St      3    h  1035000.0      S  Biggin   \n",
      "2  Abbotsford      5 Charles St      4    h  1465000.0     SP  Biggin   \n",
      "3  Abbotsford  40 Federation La      4    h   850000.0     PI  Biggin   \n",
      "4  Abbotsford       55a Park St      5    h  1600000.0     VB  Nelson   \n",
      "\n",
      "        Date  Distance  Postcode  ...  Bathroom  Car  Landsize  BuildingArea  \\\n",
      "0  3/12/2016       2.5    3067.0  ...       1.0  1.0     202.0           NaN   \n",
      "1  4/02/2016       2.5    3067.0  ...       1.0  0.0     156.0          79.0   \n",
      "2  4/03/2017       2.5    3067.0  ...       2.0  0.0     134.0         150.0   \n",
      "3  4/03/2017       2.5    3067.0  ...       2.0  1.0      94.0           NaN   \n",
      "4  4/06/2016       2.5    3067.0  ...       1.0  2.0     120.0         142.0   \n",
      "\n",
      "   YearBuilt  CouncilArea Lattitude  Longtitude             Regionname  \\\n",
      "0        NaN        Yarra  -37.7996    144.9984  Northern Metropolitan   \n",
      "1     1900.0        Yarra  -37.8079    144.9934  Northern Metropolitan   \n",
      "2     1900.0        Yarra  -37.8093    144.9944  Northern Metropolitan   \n",
      "3        NaN        Yarra  -37.7969    144.9969  Northern Metropolitan   \n",
      "4     2014.0        Yarra  -37.8072    144.9941  Northern Metropolitan   \n",
      "\n",
      "  Propertycount  \n",
      "0        4019.0  \n",
      "1        4019.0  \n",
      "2        4019.0  \n",
      "3        4019.0  \n",
      "4        4019.0  \n",
      "\n",
      "[5 rows x 21 columns]\n"
     ]
    }
   ],
   "source": [
    "# for loop method \n",
    "# make deep copy\n",
    "df1 = df.copy(deep=True)\n",
    "for i in range(len(df1)):\n",
    "    df1['Rooms'][i] += 1\n",
    "    \n",
    "# single statement \n",
    "# make deep copy \n",
    "df2 = df.copy(deep=True)\n",
    "df2['Rooms'] = df2['Rooms'].apply(lambda x: x + 1)\n",
    "\n",
    "print(df1.head())\n",
    "print(df2.head())"
   ]
  },
  {
   "cell_type": "markdown",
   "metadata": {},
   "source": [
    "## Q10- What is the Address of the earliest built house in the data set?\n",
    "\n",
    "This will exercise your DataFrame slicing ability. "
   ]
  },
  {
   "cell_type": "code",
   "execution_count": 10,
   "metadata": {},
   "outputs": [
    {
     "data": {
      "text/plain": [
       "'5 Armstrong St'"
      ]
     },
     "execution_count": 10,
     "metadata": {},
     "output_type": "execute_result"
    }
   ],
   "source": [
    "# Get row index of min YearBuilt\n",
    "i = df['YearBuilt'].idxmin()\n",
    "# Get address\n",
    "df['Address'][i]"
   ]
  },
  {
   "cell_type": "markdown",
   "metadata": {},
   "source": [
    "## Q11 - Save a file \n",
    "\n",
    "The council member for Melbourne has asked for the information for their district.  Assume that there are legal restrcitions and we can only provide the council member the Suburb, Price, and Date from the CouncilArea \"Melbourne\" to the council person.  Export the file with only the allowed columns, and do not write and index column.\n",
    "\n",
    "The other half of `read_csv`, is `to_csv`.  Make sure you follow the documentation and only include the columns asked for in the output."
   ]
  },
  {
   "cell_type": "code",
   "execution_count": 11,
   "metadata": {},
   "outputs": [
    {
     "data": {
      "text/plain": [
       "'Suburb,Price,Date\\nFlemington,957000.0,22/05/2016\\nKensington,785000.0,3/09/2016\\nKensington,852000.0,3/09/2016\\nKensington,1037000.0,3/09/2016\\nKensington,775000.0,3/12/2016\\nKensington,1470000.0,4/03/2017\\nKensington,630000.0,4/03/2017\\nKensington,492500.0,4/06/2016\\nKensington,420000.0,4/06/2016\\nKensington,650000.0,4/06/2016\\nKensington,1050000.0,4/06/2016\\nKensington,1291000.0,6/08/2016\\nKensington,420000.0,6/08/2016\\nKensington,961000.0,7/05/2016\\nKensington,1271000.0,7/05/2016\\nKensington,1010000.0,7/05/2016\\nKensington,750000.0,7/05/2016\\nKensington,1675000.0,7/05/2016\\nKensington,905000.0,8/10/2016\\nKensington,960000.0,8/10/2016\\nKensington,1031000.0,8/10/2016\\nKensington,918000.0,8/10/2016\\nKensington,870000.0,8/10/2016\\nKensington,1165000.0,10/09/2016\\nKensington,1710000.0,10/09/2016\\nKensington,360000.0,10/12/2016\\nKensington,1455000.0,10/12/2016\\nKensington,365000.0,10/12/2016\\nKensington,551000.0,10/12/2016\\nKensington,442000.0,10/12/2016\\nKensington,765000.0,10/12/2016\\nKensington,515000.0,11/02/2017\\nKensington,370000.0,12/06/2016\\nKensington,1005000.0,12/11/2016\\nKensington,1234500.0,13/08/2016\\nKensington,666000.0,13/08/2016\\nKensington,825000.0,14/05/2016\\nKensington,770000.0,14/05/2016\\nKensington,1135000.0,15/10/2016\\nKensington,975000.0,15/10/2016\\nKensington,812000.0,16/04/2016\\nKensington,1900000.0,16/04/2016\\nKensington,732000.0,18/06/2016\\nKensington,1260000.0,19/11/2016\\nKensington,1000000.0,19/11/2016\\nKensington,700000.0,19/11/2016\\nKensington,813500.0,22/05/2016\\nKensington,526000.0,22/08/2016\\nKensington,790000.0,22/08/2016\\nKensington,700000.0,22/08/2016\\nKensington,370000.0,22/08/2016\\nKensington,1230000.0,22/08/2016\\nKensington,460000.0,23/04/2016\\nKensington,395000.0,23/04/2016\\nKensington,1001000.0,24/09/2016\\nKensington,850000.0,24/09/2016\\nKensington,1335000.0,25/02/2017\\nKensington,868000.0,25/02/2017\\nKensington,960000.0,26/07/2016\\nKensington,773000.0,26/07/2016\\nKensington,631090.0,27/06/2016\\nKensington,410000.0,27/06/2016\\nKensington,425000.0,27/11/2016\\nKensington,1211000.0,27/11/2016\\nKensington,506000.0,27/11/2016\\nKensington,806000.0,28/05/2016\\nKensington,829000.0,28/05/2016\\nKensington,786000.0,28/08/2016\\nKensington,458000.0,30/07/2016\\nMelbourne,427000.0,3/12/2016\\nMelbourne,1160500.0,4/03/2017\\nMelbourne,780000.0,4/06/2016\\nMelbourne,535000.0,7/05/2016\\nMelbourne,450000.0,7/11/2016\\nMelbourne,360000.0,7/11/2016\\nMelbourne,665000.0,7/11/2016\\nMelbourne,386000.0,10/09/2016\\nMelbourne,659000.0,10/09/2016\\nMelbourne,671000.0,10/12/2016\\nMelbourne,545000.0,12/11/2016\\nMelbourne,450000.0,12/11/2016\\nMelbourne,432000.0,13/08/2016\\nMelbourne,400000.0,13/08/2016\\nMelbourne,210000.0,13/08/2016\\nMelbourne,750000.0,15/10/2016\\nMelbourne,375000.0,15/10/2016\\nMelbourne,680000.0,17/09/2016\\nMelbourne,470000.0,18/03/2017\\nMelbourne,650000.0,18/03/2017\\nMelbourne,483000.0,18/03/2017\\nMelbourne,610000.0,18/06/2016\\nMelbourne,700000.0,19/11/2016\\nMelbourne,520000.0,19/11/2016\\nMelbourne,440000.0,22/08/2016\\nMelbourne,436000.0,23/04/2016\\nMelbourne,733000.0,24/09/2016\\nMelbourne,675000.0,24/09/2016\\nMelbourne,1630000.0,25/02/2017\\nMelbourne,760000.0,28/05/2016\\nMelbourne,360000.0,28/08/2016\\nMelbourne,390000.0,30/07/2016\\nNorth Melbourne,2920000.0,3/09/2016\\nNorth Melbourne,1635000.0,3/09/2016\\nNorth Melbourne,491000.0,3/09/2016\\nNorth Melbourne,540000.0,3/12/2016\\nNorth Melbourne,340000.0,3/12/2016\\nNorth Melbourne,726000.0,4/03/2017\\nNorth Melbourne,1340000.0,4/03/2017\\nNorth Melbourne,1105000.0,4/03/2017\\nNorth Melbourne,841000.0,4/03/2017\\nNorth Melbourne,528500.0,4/06/2016\\nNorth Melbourne,585000.0,4/06/2016\\nNorth Melbourne,645000.0,7/05/2016\\nNorth Melbourne,410000.0,7/11/2016\\nNorth Melbourne,550000.0,7/11/2016\\nNorth Melbourne,470000.0,7/11/2016\\nNorth Melbourne,470000.0,7/11/2016\\nNorth Melbourne,475000.0,8/10/2016\\nNorth Melbourne,640000.0,8/10/2016\\nNorth Melbourne,1330000.0,10/09/2016\\nNorth Melbourne,720000.0,10/12/2016\\nNorth Melbourne,888000.0,10/12/2016\\nNorth Melbourne,1325000.0,10/12/2016\\nNorth Melbourne,368000.0,10/12/2016\\nNorth Melbourne,1300000.0,11/02/2017\\nNorth Melbourne,450000.0,12/11/2016\\nNorth Melbourne,1385000.0,13/08/2016\\nNorth Melbourne,990000.0,15/10/2016\\nNorth Melbourne,440000.0,16/04/2016\\nNorth Melbourne,606000.0,16/04/2016\\nNorth Melbourne,450000.0,16/07/2016\\nNorth Melbourne,1470000.0,17/09/2016\\nNorth Melbourne,591500.0,17/09/2016\\nNorth Melbourne,1300000.0,18/06/2016\\nNorth Melbourne,1010000.0,19/11/2016\\nNorth Melbourne,1266000.0,19/11/2016\\nNorth Melbourne,620000.0,19/11/2016\\nNorth Melbourne,540000.0,22/08/2016\\nNorth Melbourne,1200000.0,24/09/2016\\nNorth Melbourne,630000.0,24/09/2016\\nNorth Melbourne,560000.0,25/02/2017\\nNorth Melbourne,800000.0,27/06/2016\\nNorth Melbourne,665500.0,27/11/2016\\nNorth Melbourne,550055.0,27/11/2016\\nNorth Melbourne,358000.0,27/11/2016\\nNorth Melbourne,320000.0,27/11/2016\\nNorth Melbourne,1000000.0,27/11/2016\\nNorth Melbourne,598000.0,27/11/2016\\nNorth Melbourne,950000.0,28/05/2016\\nNorth Melbourne,1065000.0,28/05/2016\\nNorth Melbourne,885000.0,28/08/2016\\nNorth Melbourne,587134.0,28/08/2016\\nParkville,1230000.0,3/09/2016\\nParkville,1360000.0,3/12/2016\\nParkville,1805000.0,8/10/2016\\nParkville,352500.0,8/10/2016\\nParkville,395000.0,11/02/2017\\nParkville,307000.0,15/10/2016\\nParkville,2200000.0,15/10/2016\\nParkville,485000.0,15/10/2016\\nParkville,1717500.0,19/11/2016\\nParkville,1265000.0,19/11/2016\\nParkville,401000.0,19/11/2016\\nParkville,2375000.0,19/11/2016\\nParkville,1851000.0,22/08/2016\\nParkville,734600.0,22/08/2016\\nParkville,1928000.0,24/09/2016\\nParkville,526000.0,25/02/2017\\nParkville,2236000.0,27/06/2016\\nParkville,500000.0,27/11/2016\\nParkville,1403000.0,27/11/2016\\nParkville,965000.0,28/08/2016\\nParkville,1040000.0,28/08/2016\\nParkville,526000.0,30/07/2016\\nParkville,750000.0,30/07/2016\\nPort Melbourne,1000000.0,4/06/2016\\nPort Melbourne,600000.0,4/06/2016\\nPort Melbourne,795000.0,6/08/2016\\nPort Melbourne,590000.0,6/08/2016\\nPort Melbourne,1275000.0,7/05/2016\\nPort Melbourne,1000000.0,7/05/2016\\nPort Melbourne,1820000.0,7/11/2016\\nPort Melbourne,655000.0,10/09/2016\\nPort Melbourne,1016500.0,10/09/2016\\nPort Melbourne,1350000.0,10/09/2016\\nPort Melbourne,1101000.0,10/12/2016\\nPort Melbourne,875000.0,18/06/2016\\nPort Melbourne,1384000.0,18/06/2016\\nPort Melbourne,720000.0,22/05/2016\\nPort Melbourne,1130000.0,22/05/2016\\nPort Melbourne,600000.0,22/08/2016\\nPort Melbourne,779000.0,24/09/2016\\nPort Melbourne,790000.0,24/09/2016\\nPort Melbourne,455500.0,24/09/2016\\nPort Melbourne,1350000.0,27/11/2016\\nPort Melbourne,2100000.0,27/11/2016\\nPort Melbourne,400000.0,28/05/2016\\nPort Melbourne,1405000.0,30/07/2016\\nSouth Yarra,1230000.0,3/12/2016\\nSouth Yarra,695000.0,4/03/2017\\nSouth Yarra,863000.0,4/03/2017\\nSouth Yarra,680000.0,4/03/2017\\nSouth Yarra,750000.0,4/06/2016\\nSouth Yarra,572000.0,4/06/2016\\nSouth Yarra,1460000.0,4/06/2016\\nSouth Yarra,659000.0,7/11/2016\\nSouth Yarra,1300000.0,8/10/2016\\nSouth Yarra,1300000.0,8/10/2016\\nSouth Yarra,1630000.0,10/09/2016\\nSouth Yarra,555000.0,12/11/2016\\nSouth Yarra,2695000.0,12/11/2016\\nSouth Yarra,805000.0,12/11/2016\\nSouth Yarra,360000.0,12/11/2016\\nSouth Yarra,832000.0,15/10/2016\\nSouth Yarra,3000000.0,15/10/2016\\nSouth Yarra,805000.0,17/09/2016\\nSouth Yarra,2050000.0,18/03/2017\\nSouth Yarra,2600000.0,18/03/2017\\nSouth Yarra,567500.0,19/11/2016\\nSouth Yarra,540000.0,22/05/2016\\nSouth Yarra,310000.0,23/04/2016\\nSouth Yarra,520000.0,26/07/2016\\nSouth Yarra,260800.0,28/05/2016\\nSouth Yarra,826000.0,28/08/2016\\nSouth Yarra,910000.0,28/08/2016\\nSouth Yarra,1715000.0,28/08/2016\\nSouth Yarra,1700000.0,28/08/2016\\nSouthbank,720000.0,3/09/2016\\nSouthbank,385500.0,4/03/2017\\nSouthbank,868000.0,4/06/2016\\nSouthbank,590000.0,4/06/2016\\nSouthbank,530000.0,4/06/2016\\nSouthbank,650000.0,6/08/2016\\nSouthbank,990000.0,7/05/2016\\nSouthbank,623000.0,7/05/2016\\nSouthbank,592500.0,7/05/2016\\nSouthbank,600000.0,7/11/2016\\nSouthbank,485000.0,10/09/2016\\nSouthbank,455000.0,11/02/2017\\nSouthbank,569000.0,11/03/2017\\nSouthbank,1220000.0,12/11/2016\\nSouthbank,1250000.0,12/11/2016\\nSouthbank,430000.0,12/11/2016\\nSouthbank,480000.0,14/05/2016\\nSouthbank,425000.0,16/04/2016\\nSouthbank,815000.0,16/07/2016\\nSouthbank,580000.0,18/03/2017\\nSouthbank,700000.0,18/06/2016\\nSouthbank,660000.0,19/11/2016\\nSouthbank,622500.0,22/05/2016\\nSouthbank,690000.0,23/04/2016\\nSouthbank,800000.0,24/09/2016\\nSouthbank,540000.0,24/09/2016\\nSouthbank,370000.0,30/07/2016\\nSouthbank,720000.0,30/07/2016\\nWest Melbourne,1010000.0,3/09/2016\\nWest Melbourne,650000.0,3/12/2016\\nWest Melbourne,1260000.0,4/06/2016\\nWest Melbourne,460000.0,4/06/2016\\nWest Melbourne,2370000.0,4/06/2016\\nWest Melbourne,800000.0,6/08/2016\\nWest Melbourne,550000.0,7/05/2016\\nWest Melbourne,660000.0,7/05/2016\\nWest Melbourne,1055000.0,8/10/2016\\nWest Melbourne,995000.0,18/03/2017\\nWest Melbourne,1130000.0,18/06/2016\\nWest Melbourne,443000.0,24/09/2016\\nWest Melbourne,1120000.0,25/02/2017\\nWest Melbourne,482000.0,26/07/2016\\nWest Melbourne,620000.0,28/05/2016\\nWest Melbourne,2100000.0,28/05/2016\\nWest Melbourne,601000.0,30/07/2016\\nCarlton,735000.0,3/12/2016\\nCarlton,1460000.0,4/03/2017\\nCarlton,860000.0,4/06/2016\\nCarlton,1662000.0,7/05/2016\\nCarlton,1590000.0,7/05/2016\\nCarlton,610250.0,7/05/2016\\nCarlton,720000.0,7/05/2016\\nCarlton,840000.0,8/10/2016\\nCarlton,795000.0,10/12/2016\\nCarlton,705000.0,12/11/2016\\nCarlton,435000.0,13/08/2016\\nCarlton,1630100.0,14/05/2016\\nCarlton,480000.0,14/05/2016\\nCarlton,1600000.0,14/05/2016\\nCarlton,500000.0,14/05/2016\\nCarlton,920000.0,15/10/2016\\nCarlton,1600000.0,17/09/2016\\nCarlton,1010000.0,18/03/2017\\nCarlton,875000.0,18/03/2017\\nCarlton,1170000.0,18/06/2016\\nCarlton,1260000.0,18/06/2016\\nCarlton,600000.0,22/05/2016\\nCarlton,310000.0,22/05/2016\\nCarlton,1550000.0,22/08/2016\\nCarlton,2033000.0,23/04/2016\\nCarlton,1110000.0,24/09/2016\\nCarlton,2705000.0,25/02/2017\\nCarlton,1616000.0,25/02/2017\\nCarlton,585000.0,27/11/2016\\nCarlton,1162000.0,27/11/2016\\nCarlton,589000.0,28/05/2016\\nCarlton,2345000.0,28/08/2016\\nCarlton,1117000.0,28/08/2016\\nCarlton,600000.0,30/07/2016\\nCarlton,957000.0,30/07/2016\\nEast Melbourne,4525000.0,3/12/2016\\nEast Melbourne,3520000.0,4/06/2016\\nEast Melbourne,740000.0,8/10/2016\\nEast Melbourne,1015000.0,8/10/2016\\nEast Melbourne,1400000.0,8/10/2016\\nEast Melbourne,1935000.0,16/07/2016\\nEast Melbourne,1475000.0,18/06/2016\\nEast Melbourne,700000.0,22/08/2016\\nEast Melbourne,565000.0,24/09/2016\\nEast Melbourne,900000.0,25/02/2017\\nEast Melbourne,630000.0,25/02/2017\\nEast Melbourne,750000.0,28/05/2016\\nEast Melbourne,872000.0,28/05/2016\\nEast Melbourne,765000.0,28/08/2016\\nDocklands,360000.0,10/12/2016\\nDocklands,1370000.0,13/08/2016\\nDocklands,800000.0,27/06/2016\\nMelbourne,432000.0,6/05/2017\\nMelbourne,1850000.0,8/04/2017\\nMelbourne,333000.0,8/04/2017\\nMelbourne,452000.0,13/05/2017\\nMelbourne,895000.0,22/04/2017\\nMelbourne,275000.0,22/04/2017\\nMelbourne,683000.0,22/04/2017\\nMelbourne,640000.0,22/04/2017\\nParkville,835000.0,6/05/2017\\nParkville,3970000.0,13/05/2017\\nParkville,2790000.0,20/05/2017\\nSouth Yarra,920000.0,13/05/2017\\nSouth Yarra,642000.0,13/05/2017\\nSouth Yarra,390500.0,29/04/2017\\nSouth Yarra,2050000.0,29/04/2017\\nCarlton,1520000.0,8/04/2017\\nCarlton,960000.0,20/05/2017\\nCarlton,995000.0,22/04/2017\\nCarlton,490000.0,29/04/2017\\nCarlton,500000.0,29/04/2017\\nEast Melbourne,503000.0,8/04/2017\\nEast Melbourne,810000.0,13/05/2017\\nEast Melbourne,4275000.0,20/05/2017\\nKensington,355000.0,8/04/2017\\nKensington,425000.0,8/04/2017\\nKensington,535000.0,8/04/2017\\nKensington,500000.0,8/04/2017\\nKensington,525000.0,13/05/2017\\nKensington,1110000.0,20/05/2017\\nKensington,917500.0,20/05/2017\\nKensington,730000.0,20/05/2017\\nKensington,811000.0,20/05/2017\\nKensington,1190000.0,20/05/2017\\nKensington,903000.0,22/04/2017\\nKensington,902500.0,22/04/2017\\nKensington,1817000.0,22/04/2017\\nKensington,528000.0,22/04/2017\\nKensington,1000000.0,29/04/2017\\nKensington,380000.0,29/04/2017\\nKensington,1817000.0,29/04/2017\\nNorth Melbourne,2161000.0,13/05/2017\\nNorth Melbourne,1485000.0,20/05/2017\\nNorth Melbourne,940000.0,29/04/2017\\nSouthbank,505000.0,8/04/2017\\nSouthbank,595000.0,8/04/2017\\nSouthbank,580000.0,8/04/2017\\nSouthbank,580000.0,13/05/2017\\nWest Melbourne,1750000.0,13/05/2017\\nWest Melbourne,1013000.0,20/05/2017\\nWest Melbourne,1171000.0,20/05/2017\\nWest Melbourne,1053000.0,22/04/2017\\nWest Melbourne,295000.0,29/04/2017\\nCarlton,350000.0,1/07/2017\\nCarlton,620000.0,1/07/2017\\nCarlton,1760000.0,1/07/2017\\nKensington,967000.0,1/07/2017\\nKensington,850000.0,1/07/2017\\nKensington,500000.0,1/07/2017\\nKensington,535000.0,1/07/2017\\nNorth Melbourne,550000.0,1/07/2017\\nNorth Melbourne,962000.0,1/07/2017\\nNorth Melbourne,936000.0,1/07/2017\\nKensington,855000.0,3/06/2017\\nKensington,990000.0,3/06/2017\\nNorth Melbourne,970000.0,3/06/2017\\nParkville,1770000.0,3/06/2017\\nSouth Yarra,2210000.0,3/06/2017\\nSouth Yarra,2400000.0,3/06/2017\\nSouthbank,422000.0,3/06/2017\\nSouthbank,590000.0,3/06/2017\\nWest Melbourne,792000.0,3/06/2017\\nEast Melbourne,1875000.0,17/06/2017\\nEast Melbourne,1350000.0,17/06/2017\\nKensington,1070000.0,17/06/2017\\nKensington,730000.0,17/06/2017\\nKensington,392000.0,17/06/2017\\nKensington,1150000.0,17/06/2017\\nKensington,1415000.0,17/06/2017\\nKensington,370000.0,17/06/2017\\nMelbourne,740000.0,17/06/2017\\nNorth Melbourne,1000000.0,17/06/2017\\nNorth Melbourne,780000.0,17/06/2017\\nNorth Melbourne,550000.0,17/06/2017\\nParkville,850000.0,17/06/2017\\nParkville,900000.0,17/06/2017\\nSouthbank,642500.0,17/06/2017\\nSouthbank,422500.0,17/06/2017\\nCarlton,1000000.0,24/06/2017\\nCarlton,720000.0,24/06/2017\\nEast Melbourne,885000.0,24/06/2017\\nKensington,1250000.0,24/06/2017\\nKensington,395000.0,24/06/2017\\nKensington,840500.0,24/06/2017\\nNorth Melbourne,570000.0,24/06/2017\\nNorth Melbourne,850000.0,24/06/2017\\nSouth Yarra,945000.0,24/06/2017\\nWest Melbourne,1370000.0,24/06/2017\\nCarlton,1100000.0,27/05/2017\\nKensington,400000.0,27/05/2017\\nKensington,715000.0,27/05/2017\\nMelbourne,720000.0,27/05/2017\\nNorth Melbourne,1126000.0,27/05/2017\\nNorth Melbourne,1746000.0,27/05/2017\\nNorth Melbourne,799000.0,27/05/2017\\nNorth Melbourne,1285000.0,27/05/2017\\nParkville,1560000.0,27/05/2017\\nSouthbank,600000.0,27/05/2017\\nSouthbank,600000.0,27/05/2017\\nWest Melbourne,660000.0,27/05/2017\\nKensington,438000.0,8/07/2017\\nKensington,710000.0,8/07/2017\\nKensington,390000.0,8/07/2017\\nMelbourne,1075000.0,8/07/2017\\nNorth Melbourne,785000.0,8/07/2017\\nNorth Melbourne,620000.0,8/07/2017\\nParkville,800000.0,8/07/2017\\nSouth Yarra,1855500.0,8/07/2017\\nWest Melbourne,670000.0,8/07/2017\\nWest Melbourne,510000.0,8/07/2017\\nEast Melbourne,1300000.0,12/08/2017\\nKensington,1225000.0,12/08/2017\\nNorth Melbourne,1475000.0,12/08/2017\\nNorth Melbourne,450000.0,12/08/2017\\nNorth Melbourne,525000.0,12/08/2017\\nSouth Yarra,1350000.0,12/08/2017\\nSouth Yarra,940000.0,12/08/2017\\nSouthbank,625000.0,12/08/2017\\nKensington,840000.0,15/07/2017\\nKensington,535000.0,15/07/2017\\nMelbourne,387000.0,15/07/2017\\nNorth Melbourne,541000.0,15/07/2017\\nWest Melbourne,380000.0,15/07/2017\\nWest Melbourne,1900000.0,15/07/2017\\nCarlton,920000.0,22/07/2017\\nEast Melbourne,895000.0,22/07/2017\\nNorth Melbourne,465000.0,22/07/2017\\nSouth Yarra,747500.0,22/07/2017\\nCarlton,920000.0,29/07/2017\\nKensington,445000.0,29/07/2017\\nKensington,501000.0,29/07/2017\\nKensington,1060000.0,29/07/2017\\nMelbourne,565000.0,29/07/2017\\nMelbourne,540000.0,29/07/2017\\nNorth Melbourne,681000.0,29/07/2017\\nNorth Melbourne,1803000.0,29/07/2017\\nSouthbank,732000.0,29/07/2017\\n'"
      ]
     },
     "execution_count": 11,
     "metadata": {},
     "output_type": "execute_result"
    }
   ],
   "source": [
    "df_only_melborne = df[df['CouncilArea'] == 'Melbourne']\n",
    "df_to_export = df_only_melborne[['Suburb', 'Price', 'Date']]\n",
    "csv_file = df_to_export.to_csv(index = False)\n",
    "csv_file"
   ]
  }
 ],
 "metadata": {
  "kernelspec": {
   "display_name": "Python 3",
   "language": "python",
   "name": "python3"
  },
  "language_info": {
   "codemirror_mode": {
    "name": "ipython",
    "version": 3
   },
   "file_extension": ".py",
   "mimetype": "text/x-python",
   "name": "python",
   "nbconvert_exporter": "python",
   "pygments_lexer": "ipython3",
   "version": "3.8.5"
  }
 },
 "nbformat": 4,
 "nbformat_minor": 4
}
