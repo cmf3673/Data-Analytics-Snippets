{
 "cells": [
  {
   "cell_type": "markdown",
   "metadata": {},
   "source": [
    "## Decision Tree Classifier\n",
    "\n",
    "[Decision Tree Classifier](https://scikit-learn.org/stable/modules/tree.html#classification)"
   ]
  },
  {
   "cell_type": "code",
   "execution_count": 1,
   "metadata": {},
   "outputs": [],
   "source": [
    "import pandas as pd\n",
    "import numpy as np\n",
    "import matplotlib.pyplot as plt\n",
    "%matplotlib inline\n",
    "from math import log2\n",
    "from sklearn import tree \n",
    "import graphviz"
   ]
  },
  {
   "cell_type": "markdown",
   "metadata": {},
   "source": [
    "## Load and split data"
   ]
  },
  {
   "cell_type": "code",
   "execution_count": 2,
   "metadata": {},
   "outputs": [
    {
     "data": {
      "text/html": [
       "<div>\n",
       "<style scoped>\n",
       "    .dataframe tbody tr th:only-of-type {\n",
       "        vertical-align: middle;\n",
       "    }\n",
       "\n",
       "    .dataframe tbody tr th {\n",
       "        vertical-align: top;\n",
       "    }\n",
       "\n",
       "    .dataframe thead th {\n",
       "        text-align: right;\n",
       "    }\n",
       "</style>\n",
       "<table border=\"1\" class=\"dataframe\">\n",
       "  <thead>\n",
       "    <tr style=\"text-align: right;\">\n",
       "      <th></th>\n",
       "      <th>Rooms</th>\n",
       "      <th>Type</th>\n",
       "      <th>Price</th>\n",
       "      <th>Distance</th>\n",
       "      <th>Bedroom2</th>\n",
       "      <th>Bathroom</th>\n",
       "      <th>Car</th>\n",
       "      <th>Landsize</th>\n",
       "      <th>BuildingArea</th>\n",
       "      <th>YearBuilt</th>\n",
       "      <th>CouncilArea</th>\n",
       "    </tr>\n",
       "  </thead>\n",
       "  <tbody>\n",
       "    <tr>\n",
       "      <th>0</th>\n",
       "      <td>2</td>\n",
       "      <td>t</td>\n",
       "      <td>771000.0</td>\n",
       "      <td>13.8</td>\n",
       "      <td>2.0</td>\n",
       "      <td>1.0</td>\n",
       "      <td>1.0</td>\n",
       "      <td>0.0</td>\n",
       "      <td>99.0</td>\n",
       "      <td>1992.0</td>\n",
       "      <td>Bayside</td>\n",
       "    </tr>\n",
       "    <tr>\n",
       "      <th>1</th>\n",
       "      <td>3</td>\n",
       "      <td>t</td>\n",
       "      <td>700000.0</td>\n",
       "      <td>7.9</td>\n",
       "      <td>3.0</td>\n",
       "      <td>2.0</td>\n",
       "      <td>1.0</td>\n",
       "      <td>189.0</td>\n",
       "      <td>110.0</td>\n",
       "      <td>1990.0</td>\n",
       "      <td>Banyule</td>\n",
       "    </tr>\n",
       "    <tr>\n",
       "      <th>2</th>\n",
       "      <td>3</td>\n",
       "      <td>u</td>\n",
       "      <td>975000.0</td>\n",
       "      <td>12.1</td>\n",
       "      <td>3.0</td>\n",
       "      <td>2.0</td>\n",
       "      <td>1.0</td>\n",
       "      <td>277.0</td>\n",
       "      <td>109.0</td>\n",
       "      <td>1975.0</td>\n",
       "      <td>Glen Eira</td>\n",
       "    </tr>\n",
       "    <tr>\n",
       "      <th>3</th>\n",
       "      <td>3</td>\n",
       "      <td>h</td>\n",
       "      <td>1290000.0</td>\n",
       "      <td>8.0</td>\n",
       "      <td>3.0</td>\n",
       "      <td>1.0</td>\n",
       "      <td>1.0</td>\n",
       "      <td>618.0</td>\n",
       "      <td>132.0</td>\n",
       "      <td>1960.0</td>\n",
       "      <td>Moonee Valley</td>\n",
       "    </tr>\n",
       "    <tr>\n",
       "      <th>4</th>\n",
       "      <td>2</td>\n",
       "      <td>u</td>\n",
       "      <td>500000.0</td>\n",
       "      <td>4.2</td>\n",
       "      <td>2.0</td>\n",
       "      <td>1.0</td>\n",
       "      <td>1.0</td>\n",
       "      <td>0.0</td>\n",
       "      <td>86.0</td>\n",
       "      <td>2000.0</td>\n",
       "      <td>Melbourne</td>\n",
       "    </tr>\n",
       "    <tr>\n",
       "      <th>...</th>\n",
       "      <td>...</td>\n",
       "      <td>...</td>\n",
       "      <td>...</td>\n",
       "      <td>...</td>\n",
       "      <td>...</td>\n",
       "      <td>...</td>\n",
       "      <td>...</td>\n",
       "      <td>...</td>\n",
       "      <td>...</td>\n",
       "      <td>...</td>\n",
       "      <td>...</td>\n",
       "    </tr>\n",
       "    <tr>\n",
       "      <th>805</th>\n",
       "      <td>2</td>\n",
       "      <td>t</td>\n",
       "      <td>855000.0</td>\n",
       "      <td>11.4</td>\n",
       "      <td>2.0</td>\n",
       "      <td>1.0</td>\n",
       "      <td>1.0</td>\n",
       "      <td>158.0</td>\n",
       "      <td>106.0</td>\n",
       "      <td>1994.0</td>\n",
       "      <td>Glen Eira</td>\n",
       "    </tr>\n",
       "    <tr>\n",
       "      <th>806</th>\n",
       "      <td>2</td>\n",
       "      <td>u</td>\n",
       "      <td>696000.0</td>\n",
       "      <td>2.6</td>\n",
       "      <td>2.0</td>\n",
       "      <td>2.0</td>\n",
       "      <td>1.0</td>\n",
       "      <td>0.0</td>\n",
       "      <td>68.0</td>\n",
       "      <td>2008.0</td>\n",
       "      <td>Yarra</td>\n",
       "    </tr>\n",
       "    <tr>\n",
       "      <th>807</th>\n",
       "      <td>2</td>\n",
       "      <td>t</td>\n",
       "      <td>520000.0</td>\n",
       "      <td>9.9</td>\n",
       "      <td>2.0</td>\n",
       "      <td>1.0</td>\n",
       "      <td>1.0</td>\n",
       "      <td>0.0</td>\n",
       "      <td>82.0</td>\n",
       "      <td>2011.0</td>\n",
       "      <td>Moreland</td>\n",
       "    </tr>\n",
       "    <tr>\n",
       "      <th>808</th>\n",
       "      <td>3</td>\n",
       "      <td>t</td>\n",
       "      <td>815000.0</td>\n",
       "      <td>4.3</td>\n",
       "      <td>3.0</td>\n",
       "      <td>2.0</td>\n",
       "      <td>2.0</td>\n",
       "      <td>198.0</td>\n",
       "      <td>130.0</td>\n",
       "      <td>1990.0</td>\n",
       "      <td>Maribyrnong</td>\n",
       "    </tr>\n",
       "    <tr>\n",
       "      <th>809</th>\n",
       "      <td>3</td>\n",
       "      <td>h</td>\n",
       "      <td>1302500.0</td>\n",
       "      <td>11.2</td>\n",
       "      <td>3.0</td>\n",
       "      <td>2.0</td>\n",
       "      <td>2.0</td>\n",
       "      <td>0.0</td>\n",
       "      <td>171.0</td>\n",
       "      <td>1993.0</td>\n",
       "      <td>Bayside</td>\n",
       "    </tr>\n",
       "  </tbody>\n",
       "</table>\n",
       "<p>810 rows × 11 columns</p>\n",
       "</div>"
      ],
      "text/plain": [
       "     Rooms Type      Price  Distance  Bedroom2  Bathroom  Car  Landsize  \\\n",
       "0        2    t   771000.0      13.8       2.0       1.0  1.0       0.0   \n",
       "1        3    t   700000.0       7.9       3.0       2.0  1.0     189.0   \n",
       "2        3    u   975000.0      12.1       3.0       2.0  1.0     277.0   \n",
       "3        3    h  1290000.0       8.0       3.0       1.0  1.0     618.0   \n",
       "4        2    u   500000.0       4.2       2.0       1.0  1.0       0.0   \n",
       "..     ...  ...        ...       ...       ...       ...  ...       ...   \n",
       "805      2    t   855000.0      11.4       2.0       1.0  1.0     158.0   \n",
       "806      2    u   696000.0       2.6       2.0       2.0  1.0       0.0   \n",
       "807      2    t   520000.0       9.9       2.0       1.0  1.0       0.0   \n",
       "808      3    t   815000.0       4.3       3.0       2.0  2.0     198.0   \n",
       "809      3    h  1302500.0      11.2       3.0       2.0  2.0       0.0   \n",
       "\n",
       "     BuildingArea  YearBuilt    CouncilArea  \n",
       "0            99.0     1992.0        Bayside  \n",
       "1           110.0     1990.0        Banyule  \n",
       "2           109.0     1975.0      Glen Eira  \n",
       "3           132.0     1960.0  Moonee Valley  \n",
       "4            86.0     2000.0      Melbourne  \n",
       "..            ...        ...            ...  \n",
       "805         106.0     1994.0      Glen Eira  \n",
       "806          68.0     2008.0          Yarra  \n",
       "807          82.0     2011.0       Moreland  \n",
       "808         130.0     1990.0    Maribyrnong  \n",
       "809         171.0     1993.0        Bayside  \n",
       "\n",
       "[810 rows x 11 columns]"
      ]
     },
     "execution_count": 2,
     "metadata": {},
     "output_type": "execute_result"
    }
   ],
   "source": [
    "df = pd.read_csv('melb_tree_train.csv')\n",
    "df_x = df.drop(columns = 'Type')\n",
    "s_y = df['Type']\n",
    "df"
   ]
  },
  {
   "cell_type": "markdown",
   "metadata": {},
   "source": [
    "## Entropy function"
   ]
  },
  {
   "cell_type": "code",
   "execution_count": 3,
   "metadata": {},
   "outputs": [],
   "source": [
    "def calc_entropy(s_y):\n",
    "    entropy = 0\n",
    "    for p in s_y.value_counts(normalize = True):\n",
    "        entropy -= p * log2(p)\n",
    "    return entropy"
   ]
  },
  {
   "cell_type": "markdown",
   "metadata": {},
   "source": [
    "## Calculating entropy of full data set and partitions\n",
    "\n",
    "  - Partitions:\n",
    "    * Landsize $\\in$ [0,200]\n",
    "    * Landsize $\\in$ (200,450]\n",
    "    * Landsize $\\in$ (450, $\\infty$)"
   ]
  },
  {
   "cell_type": "code",
   "execution_count": 4,
   "metadata": {},
   "outputs": [
    {
     "data": {
      "text/plain": [
       "1.582533311426178"
      ]
     },
     "execution_count": 4,
     "metadata": {},
     "output_type": "execute_result"
    }
   ],
   "source": [
    "# The entire data set\n",
    "calc_entropy(s_y)"
   ]
  },
  {
   "cell_type": "code",
   "execution_count": 5,
   "metadata": {},
   "outputs": [
    {
     "data": {
      "text/plain": [
       "1.3456432116206725"
      ]
     },
     "execution_count": 5,
     "metadata": {},
     "output_type": "execute_result"
    }
   ],
   "source": [
    "# Less than or equal to 200\n",
    "calc_entropy(s_y[df['Landsize'] <= 200])"
   ]
  },
  {
   "cell_type": "code",
   "execution_count": 6,
   "metadata": {},
   "outputs": [
    {
     "data": {
      "text/plain": [
       "1.4660501816027975"
      ]
     },
     "execution_count": 6,
     "metadata": {},
     "output_type": "execute_result"
    }
   ],
   "source": [
    "# Between 200 and 450\n",
    "calc_entropy(s_y[(df['Landsize'] > 200) & (df['Landsize'] <= 450)])"
   ]
  },
  {
   "cell_type": "code",
   "execution_count": 7,
   "metadata": {},
   "outputs": [
    {
     "data": {
      "text/plain": [
       "1.09954792005911"
      ]
     },
     "execution_count": 7,
     "metadata": {},
     "output_type": "execute_result"
    }
   ],
   "source": [
    "# greater than 450\n",
    "calc_entropy(s_y[df['Landsize'] > 450])"
   ]
  },
  {
   "cell_type": "markdown",
   "metadata": {},
   "source": [
    "## Gini Index function"
   ]
  },
  {
   "cell_type": "code",
   "execution_count": 8,
   "metadata": {},
   "outputs": [],
   "source": [
    "def calc_gini(s_y):\n",
    "    num = 0\n",
    "    for p in s_y.value_counts(normalize = True):\n",
    "        num += p ** 2\n",
    "    return 1 - num"
   ]
  },
  {
   "cell_type": "markdown",
   "metadata": {},
   "source": [
    "## Calulating Gini of full data set and partitions\n",
    "  - Partitions: \n",
    "    * Landsize $\\in$ [0,200]\n",
    "    * Landsize $\\in$ (200,450]\n",
    "    * Landsize $\\in$ (450, $\\infty$)"
   ]
  },
  {
   "cell_type": "code",
   "execution_count": 9,
   "metadata": {},
   "outputs": [
    {
     "data": {
      "text/plain": [
       "0.6655601280292638"
      ]
     },
     "execution_count": 9,
     "metadata": {},
     "output_type": "execute_result"
    }
   ],
   "source": [
    "# Entire data set\n",
    "calc_gini(s_y)"
   ]
  },
  {
   "cell_type": "code",
   "execution_count": 10,
   "metadata": {},
   "outputs": [
    {
     "data": {
      "text/plain": [
       "0.5741211482422965"
      ]
     },
     "execution_count": 10,
     "metadata": {},
     "output_type": "execute_result"
    }
   ],
   "source": [
    "# Less than or equal to 200\n",
    "calc_gini(s_y[df['Landsize'] <= 200])"
   ]
  },
  {
   "cell_type": "code",
   "execution_count": 11,
   "metadata": {},
   "outputs": [
    {
     "data": {
      "text/plain": [
       "0.6101021682602731"
      ]
     },
     "execution_count": 11,
     "metadata": {},
     "output_type": "execute_result"
    }
   ],
   "source": [
    "# Between 200 and 450\n",
    "calc_gini(s_y[(df['Landsize'] > 200) & (df['Landsize'] <= 450)])"
   ]
  },
  {
   "cell_type": "code",
   "execution_count": 12,
   "metadata": {},
   "outputs": [
    {
     "data": {
      "text/plain": [
       "0.43819341715976323"
      ]
     },
     "execution_count": 12,
     "metadata": {},
     "output_type": "execute_result"
    }
   ],
   "source": [
    "# greater than 450\n",
    "calc_gini(s_y[df['Landsize'] > 450])"
   ]
  },
  {
   "cell_type": "markdown",
   "metadata": {},
   "source": [
    "## Create a decision tree \n",
    "Using: \\\n",
    "[Decision Tree](https://scikit-learn.org/stable/modules/tree.html#tree)"
   ]
  },
  {
   "cell_type": "code",
   "execution_count": 13,
   "metadata": {},
   "outputs": [
    {
     "data": {
      "text/plain": [
       "Index(['t', 'u', 'h'], dtype='object')"
      ]
     },
     "execution_count": 13,
     "metadata": {},
     "output_type": "execute_result"
    }
   ],
   "source": [
    "# df = pd.read_csv('melb_tree_train.csv')\n",
    "# df_x = df.drop('Type', axis = 1)\n",
    "# s_y = df['Type']\n",
    "# ##################\n",
    "# Create Tree\n",
    "# one-hot encoding\n",
    "# council area\n",
    "council_dummy = pd.get_dummies(df_x['CouncilArea'])\n",
    "df_x = df_x.drop('CouncilArea', axis = 1)\n",
    "df_x = df_x.join(council_dummy)\n",
    "\n",
    "s_y, index = s_y.factorize()\n",
    "\n",
    "clf = tree.DecisionTreeClassifier(criterion = 'entropy', max_depth = 3)\n",
    "clf.fit(df_x, s_y)\n",
    "index"
   ]
  },
  {
   "cell_type": "code",
   "execution_count": 14,
   "metadata": {},
   "outputs": [
    {
     "name": "stdout",
     "output_type": "stream",
     "text": [
      "|--- YearBuilt <= 1977.50\n",
      "|   |--- Rooms <= 2.50\n",
      "|   |   |--- Price <= 915000.00\n",
      "|   |   |   |--- class: 1\n",
      "|   |   |--- Price >  915000.00\n",
      "|   |   |   |--- class: 2\n",
      "|   |--- Rooms >  2.50\n",
      "|   |   |--- Landsize <= 429.00\n",
      "|   |   |   |--- class: 2\n",
      "|   |   |--- Landsize >  429.00\n",
      "|   |   |   |--- class: 2\n",
      "|--- YearBuilt >  1977.50\n",
      "|   |--- BuildingArea <= 104.31\n",
      "|   |   |--- Landsize <= 76.00\n",
      "|   |   |   |--- class: 1\n",
      "|   |   |--- Landsize >  76.00\n",
      "|   |   |   |--- class: 0\n",
      "|   |--- BuildingArea >  104.31\n",
      "|   |   |--- Landsize <= 391.00\n",
      "|   |   |   |--- class: 0\n",
      "|   |   |--- Landsize >  391.00\n",
      "|   |   |   |--- class: 2\n",
      "\n"
     ]
    }
   ],
   "source": [
    "# Displaying text version\n",
    "r = tree.export_text(clf, feature_names = list(df_x.columns))\n",
    "print(r)"
   ]
  },
  {
   "cell_type": "code",
   "execution_count": 15,
   "metadata": {},
   "outputs": [
    {
     "data": {
      "image/svg+xml": [
       "<?xml version=\"1.0\" encoding=\"UTF-8\" standalone=\"no\"?>\n",
       "<!DOCTYPE svg PUBLIC \"-//W3C//DTD SVG 1.1//EN\"\n",
       " \"http://www.w3.org/Graphics/SVG/1.1/DTD/svg11.dtd\">\n",
       "<!-- Generated by graphviz version 2.40.1 (20161225.0304)\n",
       " -->\n",
       "<!-- Title: Tree Pages: 1 -->\n",
       "<svg width=\"895pt\" height=\"373pt\"\n",
       " viewBox=\"0.00 0.00 895.00 373.00\" xmlns=\"http://www.w3.org/2000/svg\" xmlns:xlink=\"http://www.w3.org/1999/xlink\">\n",
       "<g id=\"graph0\" class=\"graph\" transform=\"scale(1 1) rotate(0) translate(4 369)\">\n",
       "<title>Tree</title>\n",
       "<polygon fill=\"#ffffff\" stroke=\"transparent\" points=\"-4,4 -4,-369 891,-369 891,4 -4,4\"/>\n",
       "<!-- 0 -->\n",
       "<g id=\"node1\" class=\"node\">\n",
       "<title>0</title>\n",
       "<polygon fill=\"none\" stroke=\"#000000\" points=\"483.5,-365 368.5,-365 368.5,-297 483.5,-297 483.5,-365\"/>\n",
       "<text text-anchor=\"middle\" x=\"426\" y=\"-349.8\" font-family=\"Times,serif\" font-size=\"14.00\" fill=\"#000000\">YearBuilt &lt;= 1977.5</text>\n",
       "<text text-anchor=\"middle\" x=\"426\" y=\"-334.8\" font-family=\"Times,serif\" font-size=\"14.00\" fill=\"#000000\">entropy = 1.583</text>\n",
       "<text text-anchor=\"middle\" x=\"426\" y=\"-319.8\" font-family=\"Times,serif\" font-size=\"14.00\" fill=\"#000000\">samples = 810</text>\n",
       "<text text-anchor=\"middle\" x=\"426\" y=\"-304.8\" font-family=\"Times,serif\" font-size=\"14.00\" fill=\"#000000\">value = [281, 281, 248]</text>\n",
       "</g>\n",
       "<!-- 1 -->\n",
       "<g id=\"node2\" class=\"node\">\n",
       "<title>1</title>\n",
       "<polygon fill=\"none\" stroke=\"#000000\" points=\"374,-261 264,-261 264,-193 374,-193 374,-261\"/>\n",
       "<text text-anchor=\"middle\" x=\"319\" y=\"-245.8\" font-family=\"Times,serif\" font-size=\"14.00\" fill=\"#000000\">Rooms &lt;= 2.5</text>\n",
       "<text text-anchor=\"middle\" x=\"319\" y=\"-230.8\" font-family=\"Times,serif\" font-size=\"14.00\" fill=\"#000000\">entropy = 1.264</text>\n",
       "<text text-anchor=\"middle\" x=\"319\" y=\"-215.8\" font-family=\"Times,serif\" font-size=\"14.00\" fill=\"#000000\">samples = 370</text>\n",
       "<text text-anchor=\"middle\" x=\"319\" y=\"-200.8\" font-family=\"Times,serif\" font-size=\"14.00\" fill=\"#000000\">value = [23, 153, 194]</text>\n",
       "</g>\n",
       "<!-- 0&#45;&gt;1 -->\n",
       "<g id=\"edge1\" class=\"edge\">\n",
       "<title>0&#45;&gt;1</title>\n",
       "<path fill=\"none\" stroke=\"#000000\" d=\"M390.9642,-296.9465C381.5419,-287.7884 371.2487,-277.7838 361.4696,-268.2788\"/>\n",
       "<polygon fill=\"#000000\" stroke=\"#000000\" points=\"363.7249,-265.59 354.1145,-261.13 358.846,-270.6097 363.7249,-265.59\"/>\n",
       "<text text-anchor=\"middle\" x=\"354.4699\" y=\"-282.4275\" font-family=\"Times,serif\" font-size=\"14.00\" fill=\"#000000\">True</text>\n",
       "</g>\n",
       "<!-- 8 -->\n",
       "<g id=\"node9\" class=\"node\">\n",
       "<title>8</title>\n",
       "<polygon fill=\"none\" stroke=\"#000000\" points=\"611.5,-261 486.5,-261 486.5,-193 611.5,-193 611.5,-261\"/>\n",
       "<text text-anchor=\"middle\" x=\"549\" y=\"-245.8\" font-family=\"Times,serif\" font-size=\"14.00\" fill=\"#000000\">BuildingArea &lt;= 104.315</text>\n",
       "<text text-anchor=\"middle\" x=\"549\" y=\"-230.8\" font-family=\"Times,serif\" font-size=\"14.00\" fill=\"#000000\">entropy = 1.341</text>\n",
       "<text text-anchor=\"middle\" x=\"549\" y=\"-215.8\" font-family=\"Times,serif\" font-size=\"14.00\" fill=\"#000000\">samples = 440</text>\n",
       "<text text-anchor=\"middle\" x=\"549\" y=\"-200.8\" font-family=\"Times,serif\" font-size=\"14.00\" fill=\"#000000\">value = [258, 128, 54]</text>\n",
       "</g>\n",
       "<!-- 0&#45;&gt;8 -->\n",
       "<g id=\"edge8\" class=\"edge\">\n",
       "<title>0&#45;&gt;8</title>\n",
       "<path fill=\"none\" stroke=\"#000000\" d=\"M466.2748,-296.9465C477.3184,-287.6088 489.4028,-277.3911 500.8404,-267.7203\"/>\n",
       "<polygon fill=\"#000000\" stroke=\"#000000\" points=\"503.2583,-270.2594 508.6347,-261.13 498.7386,-264.914 503.2583,-270.2594\"/>\n",
       "<text text-anchor=\"middle\" x=\"506.5495\" y=\"-282.3429\" font-family=\"Times,serif\" font-size=\"14.00\" fill=\"#000000\">False</text>\n",
       "</g>\n",
       "<!-- 2 -->\n",
       "<g id=\"node3\" class=\"node\">\n",
       "<title>2</title>\n",
       "<polygon fill=\"none\" stroke=\"#000000\" points=\"209.5,-157 104.5,-157 104.5,-89 209.5,-89 209.5,-157\"/>\n",
       "<text text-anchor=\"middle\" x=\"157\" y=\"-141.8\" font-family=\"Times,serif\" font-size=\"14.00\" fill=\"#000000\">Price &lt;= 915000.0</text>\n",
       "<text text-anchor=\"middle\" x=\"157\" y=\"-126.8\" font-family=\"Times,serif\" font-size=\"14.00\" fill=\"#000000\">entropy = 0.974</text>\n",
       "<text text-anchor=\"middle\" x=\"157\" y=\"-111.8\" font-family=\"Times,serif\" font-size=\"14.00\" fill=\"#000000\">samples = 182</text>\n",
       "<text text-anchor=\"middle\" x=\"157\" y=\"-96.8\" font-family=\"Times,serif\" font-size=\"14.00\" fill=\"#000000\">value = [10, 139, 33]</text>\n",
       "</g>\n",
       "<!-- 1&#45;&gt;2 -->\n",
       "<g id=\"edge2\" class=\"edge\">\n",
       "<title>1&#45;&gt;2</title>\n",
       "<path fill=\"none\" stroke=\"#000000\" d=\"M265.9551,-192.9465C250.6948,-183.1497 233.9255,-172.3843 218.2141,-162.298\"/>\n",
       "<polygon fill=\"#000000\" stroke=\"#000000\" points=\"219.9168,-159.2319 209.6107,-156.7748 216.1351,-165.1225 219.9168,-159.2319\"/>\n",
       "</g>\n",
       "<!-- 5 -->\n",
       "<g id=\"node6\" class=\"node\">\n",
       "<title>5</title>\n",
       "<polygon fill=\"none\" stroke=\"#000000\" points=\"371.5,-157 266.5,-157 266.5,-89 371.5,-89 371.5,-157\"/>\n",
       "<text text-anchor=\"middle\" x=\"319\" y=\"-141.8\" font-family=\"Times,serif\" font-size=\"14.00\" fill=\"#000000\">Landsize &lt;= 429.0</text>\n",
       "<text text-anchor=\"middle\" x=\"319\" y=\"-126.8\" font-family=\"Times,serif\" font-size=\"14.00\" fill=\"#000000\">entropy = 0.737</text>\n",
       "<text text-anchor=\"middle\" x=\"319\" y=\"-111.8\" font-family=\"Times,serif\" font-size=\"14.00\" fill=\"#000000\">samples = 188</text>\n",
       "<text text-anchor=\"middle\" x=\"319\" y=\"-96.8\" font-family=\"Times,serif\" font-size=\"14.00\" fill=\"#000000\">value = [13, 14, 161]</text>\n",
       "</g>\n",
       "<!-- 1&#45;&gt;5 -->\n",
       "<g id=\"edge5\" class=\"edge\">\n",
       "<title>1&#45;&gt;5</title>\n",
       "<path fill=\"none\" stroke=\"#000000\" d=\"M319,-192.9465C319,-184.776 319,-175.9318 319,-167.3697\"/>\n",
       "<polygon fill=\"#000000\" stroke=\"#000000\" points=\"322.5001,-167.13 319,-157.13 315.5001,-167.13 322.5001,-167.13\"/>\n",
       "</g>\n",
       "<!-- 3 -->\n",
       "<g id=\"node4\" class=\"node\">\n",
       "<title>3</title>\n",
       "<polygon fill=\"none\" stroke=\"#000000\" points=\"94,-53 0,-53 0,0 94,0 94,-53\"/>\n",
       "<text text-anchor=\"middle\" x=\"47\" y=\"-37.8\" font-family=\"Times,serif\" font-size=\"14.00\" fill=\"#000000\">entropy = 0.595</text>\n",
       "<text text-anchor=\"middle\" x=\"47\" y=\"-22.8\" font-family=\"Times,serif\" font-size=\"14.00\" fill=\"#000000\">samples = 150</text>\n",
       "<text text-anchor=\"middle\" x=\"47\" y=\"-7.8\" font-family=\"Times,serif\" font-size=\"14.00\" fill=\"#000000\">value = [7, 134, 9]</text>\n",
       "</g>\n",
       "<!-- 2&#45;&gt;3 -->\n",
       "<g id=\"edge3\" class=\"edge\">\n",
       "<title>2&#45;&gt;3</title>\n",
       "<path fill=\"none\" stroke=\"#000000\" d=\"M118.2181,-88.9777C107.467,-79.546 95.8078,-69.3178 85.0962,-59.9208\"/>\n",
       "<polygon fill=\"#000000\" stroke=\"#000000\" points=\"87.316,-57.2122 77.4905,-53.2485 82.6996,-62.4743 87.316,-57.2122\"/>\n",
       "</g>\n",
       "<!-- 4 -->\n",
       "<g id=\"node5\" class=\"node\">\n",
       "<title>4</title>\n",
       "<polygon fill=\"none\" stroke=\"#000000\" points=\"201.5,-53 112.5,-53 112.5,0 201.5,0 201.5,-53\"/>\n",
       "<text text-anchor=\"middle\" x=\"157\" y=\"-37.8\" font-family=\"Times,serif\" font-size=\"14.00\" fill=\"#000000\">entropy = 1.05</text>\n",
       "<text text-anchor=\"middle\" x=\"157\" y=\"-22.8\" font-family=\"Times,serif\" font-size=\"14.00\" fill=\"#000000\">samples = 32</text>\n",
       "<text text-anchor=\"middle\" x=\"157\" y=\"-7.8\" font-family=\"Times,serif\" font-size=\"14.00\" fill=\"#000000\">value = [3, 5, 24]</text>\n",
       "</g>\n",
       "<!-- 2&#45;&gt;4 -->\n",
       "<g id=\"edge4\" class=\"edge\">\n",
       "<title>2&#45;&gt;4</title>\n",
       "<path fill=\"none\" stroke=\"#000000\" d=\"M157,-88.9777C157,-80.7364 157,-71.887 157,-63.5153\"/>\n",
       "<polygon fill=\"#000000\" stroke=\"#000000\" points=\"160.5001,-63.2484 157,-53.2485 153.5001,-63.2485 160.5001,-63.2484\"/>\n",
       "</g>\n",
       "<!-- 6 -->\n",
       "<g id=\"node7\" class=\"node\">\n",
       "<title>6</title>\n",
       "<polygon fill=\"none\" stroke=\"#000000\" points=\"318.5,-53 219.5,-53 219.5,0 318.5,0 318.5,-53\"/>\n",
       "<text text-anchor=\"middle\" x=\"269\" y=\"-37.8\" font-family=\"Times,serif\" font-size=\"14.00\" fill=\"#000000\">entropy = 1.22</text>\n",
       "<text text-anchor=\"middle\" x=\"269\" y=\"-22.8\" font-family=\"Times,serif\" font-size=\"14.00\" fill=\"#000000\">samples = 69</text>\n",
       "<text text-anchor=\"middle\" x=\"269\" y=\"-7.8\" font-family=\"Times,serif\" font-size=\"14.00\" fill=\"#000000\">value = [10, 12, 47]</text>\n",
       "</g>\n",
       "<!-- 5&#45;&gt;6 -->\n",
       "<g id=\"edge6\" class=\"edge\">\n",
       "<title>5&#45;&gt;6</title>\n",
       "<path fill=\"none\" stroke=\"#000000\" d=\"M301.3719,-88.9777C296.912,-80.3702 292.1084,-71.0992 287.6021,-62.402\"/>\n",
       "<polygon fill=\"#000000\" stroke=\"#000000\" points=\"290.5675,-60.5172 282.8593,-53.2485 284.3522,-63.7376 290.5675,-60.5172\"/>\n",
       "</g>\n",
       "<!-- 7 -->\n",
       "<g id=\"node8\" class=\"node\">\n",
       "<title>7</title>\n",
       "<polygon fill=\"none\" stroke=\"#000000\" points=\"431,-53 337,-53 337,0 431,0 431,-53\"/>\n",
       "<text text-anchor=\"middle\" x=\"384\" y=\"-37.8\" font-family=\"Times,serif\" font-size=\"14.00\" fill=\"#000000\">entropy = 0.292</text>\n",
       "<text text-anchor=\"middle\" x=\"384\" y=\"-22.8\" font-family=\"Times,serif\" font-size=\"14.00\" fill=\"#000000\">samples = 119</text>\n",
       "<text text-anchor=\"middle\" x=\"384\" y=\"-7.8\" font-family=\"Times,serif\" font-size=\"14.00\" fill=\"#000000\">value = [3, 2, 114]</text>\n",
       "</g>\n",
       "<!-- 5&#45;&gt;7 -->\n",
       "<g id=\"edge7\" class=\"edge\">\n",
       "<title>5&#45;&gt;7</title>\n",
       "<path fill=\"none\" stroke=\"#000000\" d=\"M341.9166,-88.9777C347.8994,-80.0954 354.3582,-70.5067 360.377,-61.5711\"/>\n",
       "<polygon fill=\"#000000\" stroke=\"#000000\" points=\"363.2991,-63.4978 365.9829,-53.2485 357.4933,-59.5871 363.2991,-63.4978\"/>\n",
       "</g>\n",
       "<!-- 9 -->\n",
       "<g id=\"node10\" class=\"node\">\n",
       "<title>9</title>\n",
       "<polygon fill=\"none\" stroke=\"#000000\" points=\"596,-157 502,-157 502,-89 596,-89 596,-157\"/>\n",
       "<text text-anchor=\"middle\" x=\"549\" y=\"-141.8\" font-family=\"Times,serif\" font-size=\"14.00\" fill=\"#000000\">Landsize &lt;= 76.0</text>\n",
       "<text text-anchor=\"middle\" x=\"549\" y=\"-126.8\" font-family=\"Times,serif\" font-size=\"14.00\" fill=\"#000000\">entropy = 1.118</text>\n",
       "<text text-anchor=\"middle\" x=\"549\" y=\"-111.8\" font-family=\"Times,serif\" font-size=\"14.00\" fill=\"#000000\">samples = 145</text>\n",
       "<text text-anchor=\"middle\" x=\"549\" y=\"-96.8\" font-family=\"Times,serif\" font-size=\"14.00\" fill=\"#000000\">value = [49, 91, 5]</text>\n",
       "</g>\n",
       "<!-- 8&#45;&gt;9 -->\n",
       "<g id=\"edge9\" class=\"edge\">\n",
       "<title>8&#45;&gt;9</title>\n",
       "<path fill=\"none\" stroke=\"#000000\" d=\"M549,-192.9465C549,-184.776 549,-175.9318 549,-167.3697\"/>\n",
       "<polygon fill=\"#000000\" stroke=\"#000000\" points=\"552.5001,-167.13 549,-157.13 545.5001,-167.13 552.5001,-167.13\"/>\n",
       "</g>\n",
       "<!-- 12 -->\n",
       "<g id=\"node13\" class=\"node\">\n",
       "<title>12</title>\n",
       "<polygon fill=\"none\" stroke=\"#000000\" points=\"774.5,-157 669.5,-157 669.5,-89 774.5,-89 774.5,-157\"/>\n",
       "<text text-anchor=\"middle\" x=\"722\" y=\"-141.8\" font-family=\"Times,serif\" font-size=\"14.00\" fill=\"#000000\">Landsize &lt;= 391.0</text>\n",
       "<text text-anchor=\"middle\" x=\"722\" y=\"-126.8\" font-family=\"Times,serif\" font-size=\"14.00\" fill=\"#000000\">entropy = 1.158</text>\n",
       "<text text-anchor=\"middle\" x=\"722\" y=\"-111.8\" font-family=\"Times,serif\" font-size=\"14.00\" fill=\"#000000\">samples = 295</text>\n",
       "<text text-anchor=\"middle\" x=\"722\" y=\"-96.8\" font-family=\"Times,serif\" font-size=\"14.00\" fill=\"#000000\">value = [209, 37, 49]</text>\n",
       "</g>\n",
       "<!-- 8&#45;&gt;12 -->\n",
       "<g id=\"edge12\" class=\"edge\">\n",
       "<title>8&#45;&gt;12</title>\n",
       "<path fill=\"none\" stroke=\"#000000\" d=\"M605.6467,-192.9465C623.2613,-182.3574 642.7584,-170.6366 660.6766,-159.8649\"/>\n",
       "<polygon fill=\"#000000\" stroke=\"#000000\" points=\"662.5636,-162.8144 669.3308,-154.6624 658.957,-156.815 662.5636,-162.8144\"/>\n",
       "</g>\n",
       "<!-- 10 -->\n",
       "<g id=\"node11\" class=\"node\">\n",
       "<title>10</title>\n",
       "<polygon fill=\"none\" stroke=\"#000000\" points=\"538.5,-53 449.5,-53 449.5,0 538.5,0 538.5,-53\"/>\n",
       "<text text-anchor=\"middle\" x=\"494\" y=\"-37.8\" font-family=\"Times,serif\" font-size=\"14.00\" fill=\"#000000\">entropy = 0.523</text>\n",
       "<text text-anchor=\"middle\" x=\"494\" y=\"-22.8\" font-family=\"Times,serif\" font-size=\"14.00\" fill=\"#000000\">samples = 68</text>\n",
       "<text text-anchor=\"middle\" x=\"494\" y=\"-7.8\" font-family=\"Times,serif\" font-size=\"14.00\" fill=\"#000000\">value = [8, 60, 0]</text>\n",
       "</g>\n",
       "<!-- 9&#45;&gt;10 -->\n",
       "<g id=\"edge10\" class=\"edge\">\n",
       "<title>9&#45;&gt;10</title>\n",
       "<path fill=\"none\" stroke=\"#000000\" d=\"M529.6091,-88.9777C524.651,-80.2786 519.3067,-70.9018 514.3042,-62.1247\"/>\n",
       "<polygon fill=\"#000000\" stroke=\"#000000\" points=\"517.2378,-60.2033 509.2452,-53.2485 511.1562,-63.6696 517.2378,-60.2033\"/>\n",
       "</g>\n",
       "<!-- 11 -->\n",
       "<g id=\"node12\" class=\"node\">\n",
       "<title>11</title>\n",
       "<polygon fill=\"none\" stroke=\"#000000\" points=\"651,-53 557,-53 557,0 651,0 651,-53\"/>\n",
       "<text text-anchor=\"middle\" x=\"604\" y=\"-37.8\" font-family=\"Times,serif\" font-size=\"14.00\" fill=\"#000000\">entropy = 1.269</text>\n",
       "<text text-anchor=\"middle\" x=\"604\" y=\"-22.8\" font-family=\"Times,serif\" font-size=\"14.00\" fill=\"#000000\">samples = 77</text>\n",
       "<text text-anchor=\"middle\" x=\"604\" y=\"-7.8\" font-family=\"Times,serif\" font-size=\"14.00\" fill=\"#000000\">value = [41, 31, 5]</text>\n",
       "</g>\n",
       "<!-- 9&#45;&gt;11 -->\n",
       "<g id=\"edge11\" class=\"edge\">\n",
       "<title>9&#45;&gt;11</title>\n",
       "<path fill=\"none\" stroke=\"#000000\" d=\"M568.3909,-88.9777C573.349,-80.2786 578.6933,-70.9018 583.6958,-62.1247\"/>\n",
       "<polygon fill=\"#000000\" stroke=\"#000000\" points=\"586.8438,-63.6696 588.7548,-53.2485 580.7622,-60.2033 586.8438,-63.6696\"/>\n",
       "</g>\n",
       "<!-- 13 -->\n",
       "<g id=\"node14\" class=\"node\">\n",
       "<title>13</title>\n",
       "<polygon fill=\"none\" stroke=\"#000000\" points=\"774.5,-53 669.5,-53 669.5,0 774.5,0 774.5,-53\"/>\n",
       "<text text-anchor=\"middle\" x=\"722\" y=\"-37.8\" font-family=\"Times,serif\" font-size=\"14.00\" fill=\"#000000\">entropy = 0.933</text>\n",
       "<text text-anchor=\"middle\" x=\"722\" y=\"-22.8\" font-family=\"Times,serif\" font-size=\"14.00\" fill=\"#000000\">samples = 245</text>\n",
       "<text text-anchor=\"middle\" x=\"722\" y=\"-7.8\" font-family=\"Times,serif\" font-size=\"14.00\" fill=\"#000000\">value = [194, 33, 18]</text>\n",
       "</g>\n",
       "<!-- 12&#45;&gt;13 -->\n",
       "<g id=\"edge13\" class=\"edge\">\n",
       "<title>12&#45;&gt;13</title>\n",
       "<path fill=\"none\" stroke=\"#000000\" d=\"M722,-88.9777C722,-80.7364 722,-71.887 722,-63.5153\"/>\n",
       "<polygon fill=\"#000000\" stroke=\"#000000\" points=\"725.5001,-63.2484 722,-53.2485 718.5001,-63.2485 725.5001,-63.2484\"/>\n",
       "</g>\n",
       "<!-- 14 -->\n",
       "<g id=\"node15\" class=\"node\">\n",
       "<title>14</title>\n",
       "<polygon fill=\"none\" stroke=\"#000000\" points=\"887,-53 793,-53 793,0 887,0 887,-53\"/>\n",
       "<text text-anchor=\"middle\" x=\"840\" y=\"-37.8\" font-family=\"Times,serif\" font-size=\"14.00\" fill=\"#000000\">entropy = 1.24</text>\n",
       "<text text-anchor=\"middle\" x=\"840\" y=\"-22.8\" font-family=\"Times,serif\" font-size=\"14.00\" fill=\"#000000\">samples = 50</text>\n",
       "<text text-anchor=\"middle\" x=\"840\" y=\"-7.8\" font-family=\"Times,serif\" font-size=\"14.00\" fill=\"#000000\">value = [15, 4, 31]</text>\n",
       "</g>\n",
       "<!-- 12&#45;&gt;14 -->\n",
       "<g id=\"edge14\" class=\"edge\">\n",
       "<title>12&#45;&gt;14</title>\n",
       "<path fill=\"none\" stroke=\"#000000\" d=\"M763.6024,-88.9777C775.2474,-79.4545 787.8854,-69.1191 799.4675,-59.6473\"/>\n",
       "<polygon fill=\"#000000\" stroke=\"#000000\" points=\"801.7667,-62.2885 807.292,-53.2485 797.3352,-56.8697 801.7667,-62.2885\"/>\n",
       "</g>\n",
       "</g>\n",
       "</svg>\n"
      ],
      "text/plain": [
       "<graphviz.files.Source at 0x7fa734ca1970>"
      ]
     },
     "execution_count": 15,
     "metadata": {},
     "output_type": "execute_result"
    }
   ],
   "source": [
    "# Displaying graphviz version\n",
    "data = tree.export_graphviz(clf, out_file=None, feature_names = list(df_x.columns))\n",
    "graph = graphviz.Source(data)\n",
    "graph"
   ]
  },
  {
   "cell_type": "markdown",
   "metadata": {},
   "source": [
    "## Calculate the Accuracy and Display Learning Curve (error rates)\n",
    "Hyperparameter range:\n",
    "\n",
    "    - Varying the max depth from 2 to 15 with Gini Index as the impurity measure\n",
    "    - Varying the max depth from 2 to 15 with Entropy as the impurity measure\n"
   ]
  },
  {
   "cell_type": "code",
   "execution_count": 16,
   "metadata": {},
   "outputs": [
    {
     "data": {
      "text/plain": [
       "Index(['t', 'h', 'u'], dtype='object')"
      ]
     },
     "execution_count": 16,
     "metadata": {},
     "output_type": "execute_result"
    }
   ],
   "source": [
    "# Load in the test data\n",
    "test_df = pd.read_csv('melb_tree_test.csv')\n",
    "test_x = test_df.drop(columns = 'Type')\n",
    "test_y = test_df['Type']\n",
    "\n",
    "council_dummy = pd.get_dummies(test_x['CouncilArea'])\n",
    "test_x = test_x.drop('CouncilArea', axis = 1)\n",
    "test_x = test_x.join(council_dummy)\n",
    "\n",
    "test_y, test_index = test_y.factorize()\n",
    "\n",
    "test_index"
   ]
  },
  {
   "cell_type": "code",
   "execution_count": 17,
   "metadata": {},
   "outputs": [],
   "source": [
    "# Build the trees using the training data\n",
    "depth_ls = np.arange(2, 16)\n",
    "\n",
    "gini_test_ers = []\n",
    "gini_train_ers = []\n",
    "\n",
    "ent_test_ers = []\n",
    "ent_train_ers = []\n",
    "\n",
    "# Gini\n",
    "for d in depth_ls:\n",
    "    \n",
    "    # Create tree using train data\n",
    "    clf = tree.DecisionTreeClassifier(criterion = 'gini', max_depth = d)\n",
    "    clf.fit(df_x, s_y)\n",
    "    \n",
    "    # Calc train error rate\n",
    "    num_wrong = 0\n",
    "    predictions = clf.predict(df_x)\n",
    "    # for each prediction, check if it is correct\n",
    "    for i in range(len(predictions)):\n",
    "        if predictions[i] != s_y[i]:\n",
    "            num_wrong += 1\n",
    "    gini_train_ers.append(num_wrong / len(s_y))\n",
    "    \n",
    "    # Calc test error rate\n",
    "    num_wrong = 0\n",
    "    test_predictions = clf.predict(test_x)\n",
    "    # for each prediction, check if it is correct\n",
    "    for i in range(len(test_predictions)):\n",
    "        if index[test_predictions[i]] != test_index[test_y[i]]:\n",
    "            num_wrong += 1\n",
    "    gini_test_ers.append(num_wrong / len(test_y))\n",
    "\n",
    "    \n",
    "# Entropy\n",
    "for d in depth_ls:\n",
    "    # Create tree\n",
    "    clf = tree.DecisionTreeClassifier(criterion = 'entropy', max_depth = d)\n",
    "    clf.fit(df_x, s_y)\n",
    "    \n",
    "    # Calc train error rate\n",
    "    num_wrong = 0\n",
    "    predictions = clf.predict(df_x)\n",
    "    # for each prediction, check if it is correct\n",
    "    for i in range(len(predictions)):\n",
    "        if predictions[i] != s_y[i]:\n",
    "            num_wrong += 1\n",
    "    ent_train_ers.append(num_wrong / len(s_y))\n",
    "    \n",
    "    # Calc test error rate\n",
    "    num_wrong = 0\n",
    "    test_predictions = clf.predict(test_x)\n",
    "    # for each prediction, check if it is correct\n",
    "    for i in range(len(test_predictions)):\n",
    "        if index[test_predictions[i]] != test_index[test_y[i]]:\n",
    "            num_wrong += 1\n",
    "            \n",
    "    ent_test_ers.append(num_wrong / len(test_y))"
   ]
  },
  {
   "cell_type": "code",
   "execution_count": 18,
   "metadata": {},
   "outputs": [
    {
     "data": {
      "text/plain": [
       "<matplotlib.legend.Legend at 0x7fa734ca1c10>"
      ]
     },
     "execution_count": 18,
     "metadata": {},
     "output_type": "execute_result"
    },
    {
     "data": {
      "image/png": "[encoded data removed]",
      "text/plain": [
       "<Figure size 432x288 with 1 Axes>"
      ]
     },
     "metadata": {
      "needs_background": "light"
     },
     "output_type": "display_data"
    }
   ],
   "source": [
    "# Plot the 4 learning curves\n",
    "plt.plot(depth_ls, gini_test_ers, label = 'Gini test error rate')\n",
    "plt.plot(depth_ls, gini_train_ers, label = 'Gini train error rate')\n",
    "plt.plot(depth_ls, ent_test_ers, label = 'Entropy test error rate')\n",
    "plt.plot(depth_ls, ent_train_ers, label = 'Entropy train error rate')\n",
    "plt.title('Comparing Error Rates')\n",
    "plt.xlabel('Tree depth')\n",
    "plt.ylabel('Error rate')\n",
    "plt.legend()"
   ]
  }
 ],
 "metadata": {
  "kernelspec": {
   "display_name": "Python 3",
   "language": "python",
   "name": "python3"
  },
  "language_info": {
   "codemirror_mode": {
    "name": "ipython",
    "version": 3
   },
   "file_extension": ".py",
   "mimetype": "text/x-python",
   "name": "python",
   "nbconvert_exporter": "python",
   "pygments_lexer": "ipython3",
   "version": "3.8.5"
  }
 },
 "nbformat": 4,
 "nbformat_minor": 4
}
